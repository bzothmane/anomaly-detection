{
  "cells": [
    {
      "cell_type": "code",
      "execution_count": 1,
      "metadata": {
        "id": "dN-7r8jWdc5C"
      },
      "outputs": [],
      "source": [
        "# Install required packages.\n",
        "!pip install -q torch-scatter -f https://pytorch-geometric.com/whl/torch-1.10.0+cu113.html\n",
        "!pip install -q torch-sparse -f https://pytorch-geometric.com/whl/torch-1.10.0+cu113.html\n",
        "!pip install -q git+https://github.com/rusty1s/pytorch_geometric.git"
      ]
    },
    {
      "cell_type": "code",
      "execution_count": 84,
      "metadata": {
        "id": "YVen5AWJf5SV"
      },
      "outputs": [],
      "source": [
        "from torch_geometric.datasets import OGB_MAG, AMiner\n",
        "\n",
        "dataset = OGB_MAG(root='./data', preprocess=\"metapath2vec\")\n",
        "data = dataset[0]\n",
        "torch.save(data, \"OGB_MAG Heterogeneous Graph.pt\")"
      ]
    },
    {
      "cell_type": "code",
      "execution_count": 63,
      "metadata": {
        "colab": {
          "base_uri": "https://localhost:8080/",
          "height": 166
        },
        "id": "HyESvh15f7vL",
        "outputId": "3f4b5659-03d9-4cbe-ec11-6de3a822d7ab"
      },
      "outputs": [
        {
          "name": "stdout",
          "output_type": "stream",
          "text": [
            "HeteroData(\n",
            "  \u001b[1mpaper\u001b[0m={\n",
            "    x=[736389, 128],\n",
            "    year=[736389],\n",
            "    y=[736389],\n",
            "    train_mask=[736389],\n",
            "    val_mask=[736389],\n",
            "    test_mask=[736389]\n",
            "  },\n",
            "  \u001b[1mauthor\u001b[0m={ x=[1134649, 128] },\n",
            "  \u001b[1minstitution\u001b[0m={ x=[8740, 128] },\n",
            "  \u001b[1mfield_of_study\u001b[0m={ x=[59965, 128] },\n",
            "  \u001b[1m(author, affiliated_with, institution)\u001b[0m={ edge_index=[2, 1043998] },\n",
            "  \u001b[1m(author, writes, paper)\u001b[0m={ edge_index=[2, 7145660] },\n",
            "  \u001b[1m(paper, cites, paper)\u001b[0m={ edge_index=[2, 5416271] },\n",
            "  \u001b[1m(paper, has_topic, field_of_study)\u001b[0m={ edge_index=[2, 7505078] }\n",
            ")\n"
          ]
        }
      ],
      "source": [
        "print(data)"
      ]
    },
    {
      "cell_type": "code",
      "execution_count": 82,
      "metadata": {},
      "outputs": [],
      "source": [
        "import numpy as np\n",
        "\n",
        "def dense_adj(data):\n",
        "    adj_dict = {}\n",
        "    for key in data.edge_index_dict.keys():\n",
        "        a,_,b = key\n",
        "        shape = (data.num_nodes_dict[a], data.num_nodes_dict[b])\n",
        "        print(shape)\n",
        "        adj = np.zeros(shape)\n",
        "        for (i,j) in data.edge_index_dict[key].numpy().transpose():\n",
        "            adj[i][j] = 1\n",
        "        adj_dict[key] = adj\n",
        "    return adj_dict    "
      ]
    },
    {
      "cell_type": "code",
      "execution_count": 8,
      "metadata": {
        "colab": {
          "base_uri": "https://localhost:8080/"
        },
        "id": "5wQgYAT9ha_n",
        "outputId": "44749481-f254-4efd-c49d-902584d0b178"
      },
      "outputs": [
        {
          "name": "stdout",
          "output_type": "stream",
          "text": [
            "cpu\n"
          ]
        }
      ],
      "source": [
        "import torch\n",
        "\n",
        "device = 'cuda' if torch.cuda.is_available() else 'cpu'\n",
        "print(device)\n"
      ]
    },
    {
      "cell_type": "code",
      "execution_count": 9,
      "metadata": {
        "id": "W26xhRyDgii8"
      },
      "outputs": [],
      "source": [
        "import torch_geometric.transforms as T\n",
        "\n",
        "data = T.ToUndirected()(data)\n",
        "data = T.AddSelfLoops()(data)\n",
        "data = T.NormalizeFeatures()(data)\n",
        "data = T.ToDevice(device)(data)"
      ]
    },
    {
      "cell_type": "code",
      "execution_count": 21,
      "metadata": {
        "id": "aPFzD2S5f8jZ"
      },
      "outputs": [],
      "source": [
        "import torch.nn as nn\n",
        "import torch.nn.functional as F\n",
        "import torch\n",
        "from torch_geometric.nn import GCNConv, SAGEConv, to_hetero\n",
        "\n",
        "class Encoder(nn.Module):\n",
        "    def __init__(self, num_features, hidden_channels, dropout):\n",
        "        super().__init__()\n",
        "        self.conv1 = SAGEConv((num_features, -1), hidden_channels)\n",
        "        self.conv2 = SAGEConv((-1, -1), hidden_channels)\n",
        "        self.dropout = dropout\n",
        "\n",
        "    def forward(self, x, edge_index):\n",
        "        x = self.conv1(x, edge_index).relu()\n",
        "        x = F.dropout(x, self.dropout, training=self.training)\n",
        "        x = self.conv2(x, edge_index).relu()\n",
        "        return x\n",
        "\n",
        "class Attribute_Decoder(nn.Module):\n",
        "    def __init__(self, num_features, hidden_channels, dropout):\n",
        "        super().__init__()\n",
        "\n",
        "        self.conv1 = SAGEConv((-1, -1), hidden_channels)\n",
        "        self.conv2 = SAGEConv((-1, -1), num_features)\n",
        "        self.dropout = dropout\n",
        "\n",
        "    def forward(self, x, adj):\n",
        "\n",
        "        x = F.relu(self.conv1(x, adj))\n",
        "        x = F.dropout(x, self.dropout, training=self.training)\n",
        "        x = F.relu(self.conv2(x, adj))\n",
        "\n",
        "        return x\n",
        "\n",
        "class Structure_Decoder(nn.Module):\n",
        "    def __init__(self, hidden_channels, dropout):\n",
        "        super().__init__()\n",
        "\n",
        "        self.gc1 = SAGEConv((-1, -1), hidden_channels)\n",
        "        self.dropout = dropout\n",
        "\n",
        "    def forward(self, x, adj):\n",
        "\n",
        "        x, adj = F.relu(self.gc1(x, adj))\n",
        "        adj = F.dropout(x, self.dropout, training=self.training)\n",
        "        x = x @ x.T\n",
        "\n",
        "        return adj\n",
        "\n",
        "class Dominant(nn.Module):\n",
        "    def __init__(self, feat_size, hidden_size, dropout, metadata):\n",
        "        super().__init__()\n",
        "        \n",
        "        self.shared_encoder = to_hetero(Encoder(feat_size, hidden_size, dropout), metadata, aggr='sum')\n",
        "        self.attr_decoder = to_hetero(Attribute_Decoder(feat_size, hidden_size, dropout), metadata, aggr='sum')\n",
        "        self.struct_decoder = to_hetero(Structure_Decoder(hidden_size, dropout), metadata, aggr='sum')\n",
        "    \n",
        "    def forward(self, x_dict, adj_dict):\n",
        "\n",
        "        # encode\n",
        "        x_dict = self.shared_encoder(x_dict, adj_dict)\n",
        "        # decode feature matrix\n",
        "        x_hat_dict = self.attr_decoder(x_dict, adj_dict)\n",
        "        # decode adjacency matrix\n",
        "        struct_reconstructed_dict = self.struct_decoder(x_dict, adj_dict)\n",
        "        # return reconstructed matrices\n",
        "        return struct_reconstructed_dict, x_hat_dict"
      ]
    },
    {
      "cell_type": "code",
      "execution_count": 22,
      "metadata": {
        "id": "-s_Hi3aogq7D"
      },
      "outputs": [],
      "source": [
        "model = Dominant(feat_size=128, hidden_size=16, dropout=0.3, metadata=data.metadata()).to(device)\n",
        "\n",
        "optimizer = torch.optim.Adam(model.parameters(), lr = 5e-3)\n",
        "\n"
      ]
    },
    {
      "cell_type": "code",
      "execution_count": 23,
      "metadata": {
        "colab": {
          "base_uri": "https://localhost:8080/"
        },
        "id": "mtyzo21ppHO_",
        "outputId": "b5382afe-289b-46bc-8b0e-8bafba88f6e5"
      },
      "outputs": [
        {
          "data": {
            "text/plain": [
              "device(type='cpu')"
            ]
          },
          "execution_count": 23,
          "metadata": {},
          "output_type": "execute_result"
        }
      ],
      "source": [
        "data.x_dict['author'].device"
      ]
    },
    {
      "cell_type": "code",
      "execution_count": 13,
      "metadata": {
        "id": "JDePBob4sMSu"
      },
      "outputs": [],
      "source": [
        "from torch_geometric.loader import NeighborLoader\n",
        "\n",
        "train_loader = NeighborLoader(\n",
        "    data,\n",
        "    # Sample 15 neighbors for each node and each edge type for 2 iterations:\n",
        "    num_neighbors=[15] * 2,\n",
        "    # Use a batch size of 128 for sampling training nodes of type \"paper\":\n",
        "    batch_size=128,\n",
        "    input_nodes=('paper', data['paper'].train_mask),\n",
        ")"
      ]
    },
    {
      "cell_type": "code",
      "execution_count": 83,
      "metadata": {
        "colab": {
          "base_uri": "https://localhost:8080/"
        },
        "id": "VSQkr45Qs-do",
        "outputId": "61796cdb-7157-44aa-de1b-dd3c2326777f"
      },
      "outputs": [
        {
          "name": "stdout",
          "output_type": "stream",
          "text": [
            "(4301, 305)\n",
            "(4301, 20569)\n",
            "(20569, 20569)\n",
            "(20569, 2610)\n",
            "(305, 4301)\n",
            "(20569, 4301)\n",
            "(2610, 20569)\n"
          ]
        },
        {
          "data": {
            "text/plain": [
              "{('author',\n",
              "  'affiliated_with',\n",
              "  'institution'): array([[0., 0., 0., ..., 0., 0., 0.],\n",
              "        [0., 0., 0., ..., 0., 0., 0.],\n",
              "        [0., 0., 0., ..., 0., 0., 0.],\n",
              "        ...,\n",
              "        [0., 0., 0., ..., 0., 0., 0.],\n",
              "        [0., 0., 0., ..., 0., 0., 0.],\n",
              "        [0., 0., 0., ..., 0., 0., 0.]]),\n",
              " ('author',\n",
              "  'writes',\n",
              "  'paper'): array([[1., 0., 0., ..., 0., 0., 0.],\n",
              "        [1., 0., 0., ..., 0., 0., 0.],\n",
              "        [1., 0., 0., ..., 0., 0., 0.],\n",
              "        ...,\n",
              "        [0., 0., 0., ..., 0., 0., 0.],\n",
              "        [0., 0., 0., ..., 0., 0., 0.],\n",
              "        [0., 0., 0., ..., 0., 0., 0.]]),\n",
              " ('paper',\n",
              "  'cites',\n",
              "  'paper'): array([[1., 0., 0., ..., 0., 0., 0.],\n",
              "        [0., 1., 0., ..., 0., 0., 0.],\n",
              "        [0., 0., 1., ..., 0., 0., 0.],\n",
              "        ...,\n",
              "        [0., 0., 0., ..., 0., 0., 0.],\n",
              "        [0., 0., 0., ..., 0., 0., 0.],\n",
              "        [0., 0., 0., ..., 0., 0., 0.]]),\n",
              " ('paper',\n",
              "  'has_topic',\n",
              "  'field_of_study'): array([[0., 0., 0., ..., 0., 0., 0.],\n",
              "        [0., 0., 0., ..., 0., 0., 0.],\n",
              "        [0., 0., 0., ..., 0., 0., 0.],\n",
              "        ...,\n",
              "        [0., 0., 0., ..., 0., 0., 0.],\n",
              "        [0., 0., 0., ..., 0., 0., 0.],\n",
              "        [0., 0., 0., ..., 0., 0., 0.]]),\n",
              " ('institution',\n",
              "  'rev_affiliated_with',\n",
              "  'author'): array([[1., 0., 0., ..., 0., 0., 0.],\n",
              "        [0., 1., 0., ..., 0., 0., 0.],\n",
              "        [0., 0., 1., ..., 0., 0., 0.],\n",
              "        ...,\n",
              "        [0., 0., 0., ..., 0., 0., 0.],\n",
              "        [0., 0., 0., ..., 0., 0., 0.],\n",
              "        [0., 0., 0., ..., 0., 0., 0.]]),\n",
              " ('paper',\n",
              "  'rev_writes',\n",
              "  'author'): array([[1., 1., 1., ..., 0., 0., 0.],\n",
              "        [0., 0., 0., ..., 0., 0., 0.],\n",
              "        [0., 0., 0., ..., 0., 0., 0.],\n",
              "        ...,\n",
              "        [0., 0., 0., ..., 0., 0., 0.],\n",
              "        [0., 0., 0., ..., 0., 0., 0.],\n",
              "        [0., 0., 0., ..., 0., 0., 0.]]),\n",
              " ('field_of_study',\n",
              "  'rev_has_topic',\n",
              "  'paper'): array([[1., 0., 0., ..., 0., 0., 0.],\n",
              "        [1., 0., 0., ..., 0., 0., 0.],\n",
              "        [1., 0., 0., ..., 0., 0., 0.],\n",
              "        ...,\n",
              "        [0., 0., 0., ..., 0., 0., 0.],\n",
              "        [0., 0., 0., ..., 0., 0., 0.],\n",
              "        [0., 0., 0., ..., 0., 0., 0.]])}"
            ]
          },
          "execution_count": 83,
          "metadata": {},
          "output_type": "execute_result"
        }
      ],
      "source": [
        "batch = next(iter(train_loader))\n",
        "\n",
        "dense_adj(batch)"
      ]
    },
    {
      "cell_type": "code",
      "execution_count": 53,
      "metadata": {},
      "outputs": [
        {
          "data": {
            "text/plain": [
              "tensor([[[1., 0., 0.,  ..., 0., 0., 0.],\n",
              "         [0., 1., 0.,  ..., 0., 0., 0.],\n",
              "         [0., 0., 1.,  ..., 0., 0., 0.],\n",
              "         ...,\n",
              "         [0., 0., 0.,  ..., 0., 0., 0.],\n",
              "         [0., 0., 0.,  ..., 0., 0., 0.],\n",
              "         [0., 0., 0.,  ..., 0., 0., 0.]]])"
            ]
          },
          "execution_count": 53,
          "metadata": {},
          "output_type": "execute_result"
        }
      ],
      "source": [
        "from torch_geometric.utils import to_dense_adj\n",
        "\n",
        "to_dense_adj(batch.edge_index_dict[('paper', 'cites', 'paper')])"
      ]
    },
    {
      "cell_type": "code",
      "execution_count": 24,
      "metadata": {
        "id": "8KuIGvWPhhuL"
      },
      "outputs": [],
      "source": [
        "model.train()\n",
        "optimizer.zero_grad()\n",
        "A_hat, X_hat = model(batch.x_dict, batch.edge_index_dict)"
      ]
    },
    {
      "cell_type": "code",
      "execution_count": 32,
      "metadata": {},
      "outputs": [
        {
          "data": {
            "text/plain": [
              "torch.Size([20588, 128])"
            ]
          },
          "execution_count": 32,
          "metadata": {},
          "output_type": "execute_result"
        }
      ],
      "source": []
    },
    {
      "cell_type": "code",
      "execution_count": 49,
      "metadata": {
        "colab": {
          "base_uri": "https://localhost:8080/"
        },
        "id": "dHdD8vkpvIKi",
        "outputId": "0993836b-1288-4479-b19a-5bc1d627b28d"
      },
      "outputs": [
        {
          "name": "stdout",
          "output_type": "stream",
          "text": [
            "('author', 'writes', 'paper')\n",
            "torch.Size([2, 5770])\n",
            "torch.Size([1, 4342, 4342])\n",
            "('paper', 'cites', 'paper')\n",
            "torch.Size([2, 12126])\n",
            "torch.Size([1, 7962, 7962])\n",
            "('paper', 'has_topic', 'field_of_study')\n",
            "torch.Size([2, 10573])\n",
            "torch.Size([1, 18032, 18032])\n",
            "('institution', 'rev_affiliated_with', 'author')\n",
            "torch.Size([2, 836])\n",
            "torch.Size([1, 654, 654])\n",
            "('paper', 'rev_writes', 'author')\n",
            "torch.Size([2, 5532])\n",
            "torch.Size([1, 20588, 20588])\n",
            "('field_of_study', 'rev_has_topic', 'paper')\n",
            "torch.Size([2, 10324])\n",
            "torch.Size([1, 2601, 2601])\n"
          ]
        }
      ],
      "source": [
        "from torch_geometric.utils import to_dense_adj\n",
        "\n",
        "A = batch.edge_index_dict\n",
        "X = data.x_dict\n",
        "\n",
        "for key in list(A.keys())[1:]:\n",
        "    print(key)\n",
        "    print(A[key].shape)\n",
        "    print(to_dense_adj(A[key]).shape)"
      ]
    },
    {
      "cell_type": "code",
      "execution_count": null,
      "metadata": {
        "colab": {
          "base_uri": "https://localhost:8080/"
        },
        "id": "KoZf8OqTvI4Q",
        "outputId": "387a9cbb-f391-4dba-b410-76168d6a177e"
      },
      "outputs": [
        {
          "data": {
            "text/plain": [
              "{'author': tensor([[0.0000, 0.0712, 0.3332,  ..., 1.0965, 0.0000, 0.0000],\n",
              "         [0.0000, 0.0000, 0.0875,  ..., 0.9298, 0.0000, 0.0000],\n",
              "         [0.0000, 0.0252, 0.4676,  ..., 0.9029, 0.0000, 0.0000],\n",
              "         ...,\n",
              "         [0.0000, 0.0000, 0.1883,  ..., 0.8712, 0.0000, 0.0000],\n",
              "         [0.0259, 0.0000, 0.0970,  ..., 0.8344, 0.0000, 0.0000],\n",
              "         [0.1243, 0.0000, 0.0000,  ..., 0.6018, 0.0000, 0.0000]],\n",
              "        grad_fn=<ReluBackward0>),\n",
              " 'field_of_study': tensor([[0.0000, 0.0192, 0.0000,  ..., 0.1130, 0.0000, 0.0000],\n",
              "         [0.0000, 0.0153, 0.0000,  ..., 0.0000, 0.0072, 0.0000],\n",
              "         [0.0590, 0.1485, 0.0000,  ..., 0.0696, 0.1130, 0.0369],\n",
              "         ...,\n",
              "         [0.0592, 0.0000, 0.0000,  ..., 0.0290, 0.2288, 0.1459],\n",
              "         [0.0602, 0.0000, 0.0000,  ..., 0.0316, 0.2262, 0.1489],\n",
              "         [0.0192, 0.0323, 0.0000,  ..., 0.0307, 0.2703, 0.1211]],\n",
              "        grad_fn=<ReluBackward0>),\n",
              " 'institution': tensor([[0.1092, 0.0000, 0.0000,  ..., 0.0000, 0.0000, 0.0000],\n",
              "         [0.0915, 0.0000, 0.0000,  ..., 0.0000, 0.0000, 0.0000],\n",
              "         [0.0855, 0.0000, 0.0000,  ..., 0.0000, 0.0000, 0.0000],\n",
              "         ...,\n",
              "         [0.1142, 0.0000, 0.0000,  ..., 0.0000, 0.0000, 0.0000],\n",
              "         [0.0844, 0.0000, 0.0000,  ..., 0.0000, 0.0000, 0.0000],\n",
              "         [0.0814, 0.0000, 0.0000,  ..., 0.0000, 0.0000, 0.0000]],\n",
              "        grad_fn=<ReluBackward0>),\n",
              " 'paper': tensor([[0.0000, 0.0000, 0.2912,  ..., 0.0000, 0.0218, 0.0000],\n",
              "         [0.0000, 0.0000, 0.4538,  ..., 0.3741, 0.2659, 0.0000],\n",
              "         [0.0000, 0.0000, 0.4718,  ..., 0.0000, 0.0000, 0.0000],\n",
              "         ...,\n",
              "         [0.0000, 0.0000, 0.1981,  ..., 0.0000, 0.2745, 0.0822],\n",
              "         [0.0000, 0.0000, 0.1567,  ..., 0.0000, 0.3351, 0.0869],\n",
              "         [0.0000, 0.0000, 0.1394,  ..., 0.0000, 0.4039, 0.2305]],\n",
              "        grad_fn=<ReluBackward0>)}"
            ]
          },
          "execution_count": 26,
          "metadata": {},
          "output_type": "execute_result"
        }
      ],
      "source": [
        "X_hat"
      ]
    },
    {
      "cell_type": "markdown",
      "metadata": {
        "id": "my0rkgwrSo_o"
      },
      "source": [
        "Training Dominant"
      ]
    },
    {
      "cell_type": "code",
      "execution_count": 17,
      "metadata": {
        "id": "fcmUB5jnbFwp"
      },
      "outputs": [],
      "source": [
        "def loss_func(attrs, X_hat):\n",
        "    # Attribute reconstruction loss\n",
        "    diff_attribute = torch.pow(X_hat - attrs, 2)\n",
        "    attribute_reconstruction_errors = torch.sqrt(torch.sum(diff_attribute, 1))\n",
        "    attribute_cost = torch.mean(attribute_reconstruction_errors)\n",
        "\n",
        "    # structure reconstruction loss\n",
        "    # diff_structure = torch.pow(A_hat - adj, 2)\n",
        "    # structure_reconstruction_errors = torch.sqrt(torch.sum(diff_structure, 1))\n",
        "    # structure_cost = torch.mean(structure_reconstruction_errors)\n",
        "    structure_cost = 0\n",
        "\n",
        "    cost =  attribute_reconstruction_errors\n",
        "\n",
        "\n",
        "    return cost, structure_cost, attribute_cost"
      ]
    },
    {
      "cell_type": "code",
      "execution_count": 20,
      "metadata": {
        "colab": {
          "base_uri": "https://localhost:8080/"
        },
        "id": "7TPI9DzzvOfq",
        "outputId": "39a160e5-4ce7-41ec-a297-c93ba5c6d696"
      },
      "outputs": [
        {
          "name": "stdout",
          "output_type": "stream",
          "text": [
            "Epoch: 0000 train_loss= 4.42346 train/feat_loss= 4.42346\n",
            "Epoch: 0001 train_loss= 4.28383 train/feat_loss= 4.28383\n",
            "Score =  [3.641211  3.63537   4.070783  ... 2.3870046 4.1165385 4.244906 ]\n"
          ]
        }
      ],
      "source": [
        "from sklearn.metrics import roc_auc_score\n",
        "\n",
        "epochs = 2\n",
        "\n",
        "X=batch.x_dict\n",
        "for epoch in range(epochs):\n",
        "        model.train()\n",
        "        optimizer.zero_grad()\n",
        "        A_hat, X_hat = model(batch.x_dict, batch.edge_index_dict)\n",
        "        loss, struct_loss, feat_loss = loss_func(X['author'], X_hat['author'])\n",
        "        l = torch.mean(loss)\n",
        "        l.backward()\n",
        "        optimizer.step()        \n",
        "        print(\"Epoch:\", '%04d' % (epoch), \"train_loss=\", \"{:.5f}\".format(l.item()),\"train/feat_loss=\", \"{:.5f}\".format(feat_loss.item()))\n",
        "\n",
        "        if epoch == epochs - 1:\n",
        "            model.eval()\n",
        "            A_hat, X_hat = model(batch.x_dict, batch.edge_index_dict)\n",
        "            loss, struct_loss, feat_loss = loss_func(X['author'], X_hat['author'])\n",
        "            score = loss.detach().cpu().numpy()\n",
        "            print(\"Score = \", score)"
      ]
    },
    {
      "cell_type": "code",
      "execution_count": null,
      "metadata": {
        "colab": {
          "base_uri": "https://localhost:8080/"
        },
        "id": "OdEXJYwsv2nj",
        "outputId": "add5e6b4-ba3e-4e3c-8867-d2273af754b5"
      },
      "outputs": [
        {
          "data": {
            "text/plain": [
              "1134649"
            ]
          },
          "execution_count": 36,
          "metadata": {},
          "output_type": "execute_result"
        }
      ],
      "source": [
        "len(score)"
      ]
    },
    {
      "cell_type": "code",
      "execution_count": null,
      "metadata": {
        "colab": {
          "base_uri": "https://localhost:8080/"
        },
        "id": "CJZMOOJ4v4ED",
        "outputId": "339fac62-2f19-460b-ec89-e404012e22ca"
      },
      "outputs": [
        {
          "data": {
            "text/plain": [
              "torch.Size([1134649, 128])"
            ]
          },
          "execution_count": 39,
          "metadata": {},
          "output_type": "execute_result"
        }
      ],
      "source": [
        "X['author'].shape"
      ]
    },
    {
      "cell_type": "code",
      "execution_count": null,
      "metadata": {
        "id": "6huUwgwHwIrn"
      },
      "outputs": [],
      "source": []
    }
  ],
  "metadata": {
    "colab": {
      "name": "Dominant on OGB_MAG Dataset.ipynb",
      "provenance": []
    },
    "kernelspec": {
      "display_name": "Python 3",
      "name": "python3"
    },
    "language_info": {
      "codemirror_mode": {
        "name": "ipython",
        "version": 3
      },
      "file_extension": ".py",
      "mimetype": "text/x-python",
      "name": "python",
      "nbconvert_exporter": "python",
      "pygments_lexer": "ipython3",
      "version": "3.9.12"
    }
  },
  "nbformat": 4,
  "nbformat_minor": 0
}
