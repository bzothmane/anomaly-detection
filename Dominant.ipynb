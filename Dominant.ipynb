{
  "cells": [
    {
      "cell_type": "code",
      "execution_count": 4,
      "metadata": {
        "id": "B0WUm1z_en1J"
      },
      "outputs": [],
      "source": [
        "# Install required packages.\n",
        "!pip install -q torch-scatter -f https://pytorch-geometric.com/whl/torch-1.10.0+cu113.html\n",
        "!pip install -q torch-sparse -f https://pytorch-geometric.com/whl/torch-1.10.0+cu113.html\n",
        "!pip install -q git+https://github.com/rusty1s/pytorch_geometric.git"
      ]
    },
    {
      "cell_type": "markdown",
      "metadata": {},
      "source": [
        "# Anomaly Detection in Graphs using Self-Supervised Learning\n",
        "\n",
        "![CentraleSupelec Logo](https://www.centralesupelec.fr/sites/all/themes/cs_theme/medias/common/images/intro/logo_nouveau.jpg)\n",
        "\n",
        "This project represents my end-of-studies project, that was developped for a big company and in association with French Engineering school CentraleSupélec.\n",
        "\n",
        "Having signed an NDA, we do not have the right to share the company's data. The data we will use is from a re-adapted Kaggle dataset :\n",
        "```\n",
        "https://www.kaggle.com/datasets/mkechinov/ecommerce-events-history-in-cosmetics-shop/\n",
        "```\n",
        "\n",
        "The idea behind this project is to use the algorithm called DOMINANT (**D**eep An**om**aly Detect**i**o**n** on **A**tribbuted **N**e**t**works), a novel graph autoencoder framework, and to adapt it to a heterogeneous graph representing the ecosystem of users and softwares from the company."
      ]
    },
    {
      "cell_type": "markdown",
      "metadata": {
        "id": "0KYTNT9pw6PW"
      },
      "source": [
        "## Preprocessing the tabular data\n",
        "\n",
        "In our sample data, we have e-commerce events, and we would like to convert those events into a **heterogeneous graph** with three types of nodes, *product*, *customer* and *user*, and with that also three types of edges that add some logic to these nodes."
      ]
    },
    {
      "cell_type": "code",
      "execution_count": 1,
      "metadata": {
        "id": "KkocpklUisxl"
      },
      "outputs": [],
      "source": [
        "import pandas as pd"
      ]
    },
    {
      "cell_type": "code",
      "execution_count": 2,
      "metadata": {
        "id": "obKJ7xtSht-Z"
      },
      "outputs": [],
      "source": [
        "database_path = \"data_out_head_head.csv\"\n",
        "\n",
        "dataframe = pd.read_csv(database_path, index_col=0).fillna(\"\")"
      ]
    },
    {
      "cell_type": "code",
      "execution_count": 3,
      "metadata": {},
      "outputs": [
        {
          "data": {
            "text/html": [
              "<div>\n",
              "<style scoped>\n",
              "    .dataframe tbody tr th:only-of-type {\n",
              "        vertical-align: middle;\n",
              "    }\n",
              "\n",
              "    .dataframe tbody tr th {\n",
              "        vertical-align: top;\n",
              "    }\n",
              "\n",
              "    .dataframe thead th {\n",
              "        text-align: right;\n",
              "    }\n",
              "</style>\n",
              "<table border=\"1\" class=\"dataframe\">\n",
              "  <thead>\n",
              "    <tr style=\"text-align: right;\">\n",
              "      <th></th>\n",
              "      <th>event_time</th>\n",
              "      <th>event_type</th>\n",
              "      <th>product_id</th>\n",
              "      <th>category_id</th>\n",
              "      <th>category_code</th>\n",
              "      <th>brand</th>\n",
              "      <th>price</th>\n",
              "      <th>user_id</th>\n",
              "      <th>Session_id</th>\n",
              "      <th>Customer_id</th>\n",
              "      <th>Location</th>\n",
              "      <th>License_id</th>\n",
              "      <th>Session_start_datetime</th>\n",
              "      <th>Session_end_datetime</th>\n",
              "      <th>duration</th>\n",
              "      <th>License_start_date</th>\n",
              "      <th>License_end_date</th>\n",
              "    </tr>\n",
              "  </thead>\n",
              "  <tbody>\n",
              "    <tr>\n",
              "      <th>0</th>\n",
              "      <td>2020-01-25 23:46:12</td>\n",
              "      <td>cart</td>\n",
              "      <td>5921712</td>\n",
              "      <td>2115334439910245200</td>\n",
              "      <td></td>\n",
              "      <td></td>\n",
              "      <td>5.16</td>\n",
              "      <td>388018099</td>\n",
              "      <td>843d560b-2069-4a0d-68af-f767f5341312</td>\n",
              "      <td>480374496_65446</td>\n",
              "      <td>[-7.1208, -34.5019]</td>\n",
              "      <td>5921712</td>\n",
              "      <td>2020-01-25 18:23:12</td>\n",
              "      <td>2020-01-26 05:19:12</td>\n",
              "      <td>656.0</td>\n",
              "      <td>2020-01-22 07:56:13</td>\n",
              "      <td>2020-02-27 05:38:51</td>\n",
              "    </tr>\n",
              "    <tr>\n",
              "      <th>1</th>\n",
              "      <td>2020-02-15 14:43:37</td>\n",
              "      <td>remove_from_cart</td>\n",
              "      <td>5921712</td>\n",
              "      <td>2115334439910245200</td>\n",
              "      <td></td>\n",
              "      <td></td>\n",
              "      <td>5.16</td>\n",
              "      <td>459659126</td>\n",
              "      <td>457cee31-cfd9-4f75-909d-64f17021da9d</td>\n",
              "      <td>552795963_171732</td>\n",
              "      <td>[55.0342, 6.547499999999999]</td>\n",
              "      <td>5921712</td>\n",
              "      <td>2020-02-15 07:57:37</td>\n",
              "      <td>2020-02-15 15:52:37</td>\n",
              "      <td>475.0</td>\n",
              "      <td>2020-01-22 07:56:13</td>\n",
              "      <td>2020-02-27 05:38:51</td>\n",
              "    </tr>\n",
              "    <tr>\n",
              "      <th>2</th>\n",
              "      <td>2020-02-09 20:57:57</td>\n",
              "      <td>remove_from_cart</td>\n",
              "      <td>5921712</td>\n",
              "      <td>2115334439910245200</td>\n",
              "      <td></td>\n",
              "      <td></td>\n",
              "      <td>5.16</td>\n",
              "      <td>405986628</td>\n",
              "      <td>a4354a0c-f44a-484c-96b7-b319f81e99de</td>\n",
              "      <td>405986628_283400</td>\n",
              "      <td>[20.6167, -96.1167]</td>\n",
              "      <td>5921712</td>\n",
              "      <td>2020-02-09 14:17:57</td>\n",
              "      <td>2020-02-10 02:48:57</td>\n",
              "      <td>751.0</td>\n",
              "      <td>2020-01-22 07:56:13</td>\n",
              "      <td>2020-02-27 05:38:51</td>\n",
              "    </tr>\n",
              "    <tr>\n",
              "      <th>3</th>\n",
              "      <td>2020-02-05 05:30:46</td>\n",
              "      <td>view</td>\n",
              "      <td>5921712</td>\n",
              "      <td>2115334439910245200</td>\n",
              "      <td></td>\n",
              "      <td></td>\n",
              "      <td>5.16</td>\n",
              "      <td>571731968</td>\n",
              "      <td>10ba57c9-187e-454a-b57c-cdc71388cbe5</td>\n",
              "      <td>610461263_109078</td>\n",
              "      <td>[25.7206, 76.8472]</td>\n",
              "      <td>5921712</td>\n",
              "      <td>2020-02-04 21:41:46</td>\n",
              "      <td>2020-02-05 10:44:46</td>\n",
              "      <td>783.0</td>\n",
              "      <td>2020-01-22 07:56:13</td>\n",
              "      <td>2020-02-27 05:38:51</td>\n",
              "    </tr>\n",
              "    <tr>\n",
              "      <th>4</th>\n",
              "      <td>2020-01-28 07:17:14</td>\n",
              "      <td>cart</td>\n",
              "      <td>5921712</td>\n",
              "      <td>2115334439910245200</td>\n",
              "      <td></td>\n",
              "      <td></td>\n",
              "      <td>5.16</td>\n",
              "      <td>601508456</td>\n",
              "      <td>201af163-9d3f-45ae-9511-7f64d8e168c1</td>\n",
              "      <td>530951720_21726</td>\n",
              "      <td>[55.268, 1.476]</td>\n",
              "      <td>5921712</td>\n",
              "      <td>2020-01-27 21:33:14</td>\n",
              "      <td>2020-01-28 14:48:14</td>\n",
              "      <td>1035.0</td>\n",
              "      <td>2020-01-22 07:56:13</td>\n",
              "      <td>2020-02-27 05:38:51</td>\n",
              "    </tr>\n",
              "    <tr>\n",
              "      <th>...</th>\n",
              "      <td>...</td>\n",
              "      <td>...</td>\n",
              "      <td>...</td>\n",
              "      <td>...</td>\n",
              "      <td>...</td>\n",
              "      <td>...</td>\n",
              "      <td>...</td>\n",
              "      <td>...</td>\n",
              "      <td>...</td>\n",
              "      <td>...</td>\n",
              "      <td>...</td>\n",
              "      <td>...</td>\n",
              "      <td>...</td>\n",
              "      <td>...</td>\n",
              "      <td>...</td>\n",
              "      <td>...</td>\n",
              "      <td>...</td>\n",
              "    </tr>\n",
              "    <tr>\n",
              "      <th>995</th>\n",
              "      <td>2020-02-12 10:30:12</td>\n",
              "      <td>view</td>\n",
              "      <td>4810</td>\n",
              "      <td>1487580006317032337</td>\n",
              "      <td></td>\n",
              "      <td></td>\n",
              "      <td>6.67</td>\n",
              "      <td>612193632</td>\n",
              "      <td>a469ba53-4047-4a0a-a22e-05e7c922cb65</td>\n",
              "      <td>561323751_958571</td>\n",
              "      <td>[51.8844, -94.1464]</td>\n",
              "      <td>4810</td>\n",
              "      <td>2020-02-12 02:29:12</td>\n",
              "      <td>2020-02-12 17:27:12</td>\n",
              "      <td>898.0</td>\n",
              "      <td>2019-09-30 21:07:40</td>\n",
              "      <td>2020-03-01 03:55:29</td>\n",
              "    </tr>\n",
              "    <tr>\n",
              "      <th>996</th>\n",
              "      <td>2020-02-15 18:39:37</td>\n",
              "      <td>cart</td>\n",
              "      <td>4810</td>\n",
              "      <td>1487580006317032337</td>\n",
              "      <td></td>\n",
              "      <td></td>\n",
              "      <td>6.67</td>\n",
              "      <td>514701786</td>\n",
              "      <td>67748dce-b81f-46a4-b943-2667fc5edb15</td>\n",
              "      <td>514701786_629210</td>\n",
              "      <td>[13.9833, 125.9]</td>\n",
              "      <td>4810</td>\n",
              "      <td>2020-02-15 16:25:37</td>\n",
              "      <td>2020-02-16 01:54:37</td>\n",
              "      <td>569.0</td>\n",
              "      <td>2019-09-30 21:07:40</td>\n",
              "      <td>2020-03-01 03:55:29</td>\n",
              "    </tr>\n",
              "    <tr>\n",
              "      <th>997</th>\n",
              "      <td>2019-10-09 11:13:26</td>\n",
              "      <td>view</td>\n",
              "      <td>4810</td>\n",
              "      <td>1487580006317032337</td>\n",
              "      <td></td>\n",
              "      <td></td>\n",
              "      <td>6.67</td>\n",
              "      <td>551061566</td>\n",
              "      <td>41af1dc9-7c2f-4222-9919-18a449341d1b</td>\n",
              "      <td></td>\n",
              "      <td>[-11.72, -56.3278]</td>\n",
              "      <td>4810</td>\n",
              "      <td>2019-10-09 10:26:26</td>\n",
              "      <td>2019-10-09 14:38:26</td>\n",
              "      <td>252.0</td>\n",
              "      <td>2019-09-30 21:07:40</td>\n",
              "      <td>2020-03-01 03:55:29</td>\n",
              "    </tr>\n",
              "    <tr>\n",
              "      <th>998</th>\n",
              "      <td>2020-02-13 12:17:35</td>\n",
              "      <td>cart</td>\n",
              "      <td>4810</td>\n",
              "      <td>1487580006317032337</td>\n",
              "      <td></td>\n",
              "      <td></td>\n",
              "      <td>6.67</td>\n",
              "      <td>465231019</td>\n",
              "      <td>b65bbb4c-769a-45e0-b7db-99cbd6808883</td>\n",
              "      <td>465231019_93796</td>\n",
              "      <td>[18.822699999999998, 123.3295]</td>\n",
              "      <td>4810</td>\n",
              "      <td>2020-02-13 04:02:35</td>\n",
              "      <td>2020-02-13 16:53:35</td>\n",
              "      <td>771.0</td>\n",
              "      <td>2019-09-30 21:07:40</td>\n",
              "      <td>2020-03-01 03:55:29</td>\n",
              "    </tr>\n",
              "    <tr>\n",
              "      <th>999</th>\n",
              "      <td>2020-01-14 11:30:40</td>\n",
              "      <td>view</td>\n",
              "      <td>4810</td>\n",
              "      <td>1487580006317032337</td>\n",
              "      <td></td>\n",
              "      <td></td>\n",
              "      <td>6.67</td>\n",
              "      <td>596582426</td>\n",
              "      <td>92687ce8-9831-4fba-a7cf-45421f819989</td>\n",
              "      <td>322047220_403170</td>\n",
              "      <td>[29.9437, -88.9659]</td>\n",
              "      <td>4810</td>\n",
              "      <td>2020-01-14 03:46:40</td>\n",
              "      <td>2020-01-14 13:55:40</td>\n",
              "      <td>609.0</td>\n",
              "      <td>2019-09-30 21:07:40</td>\n",
              "      <td>2020-03-01 03:55:29</td>\n",
              "    </tr>\n",
              "  </tbody>\n",
              "</table>\n",
              "<p>1000 rows × 17 columns</p>\n",
              "</div>"
            ],
            "text/plain": [
              "              event_time        event_type  product_id          category_id  \\\n",
              "0    2020-01-25 23:46:12              cart     5921712  2115334439910245200   \n",
              "1    2020-02-15 14:43:37  remove_from_cart     5921712  2115334439910245200   \n",
              "2    2020-02-09 20:57:57  remove_from_cart     5921712  2115334439910245200   \n",
              "3    2020-02-05 05:30:46              view     5921712  2115334439910245200   \n",
              "4    2020-01-28 07:17:14              cart     5921712  2115334439910245200   \n",
              "..                   ...               ...         ...                  ...   \n",
              "995  2020-02-12 10:30:12              view        4810  1487580006317032337   \n",
              "996  2020-02-15 18:39:37              cart        4810  1487580006317032337   \n",
              "997  2019-10-09 11:13:26              view        4810  1487580006317032337   \n",
              "998  2020-02-13 12:17:35              cart        4810  1487580006317032337   \n",
              "999  2020-01-14 11:30:40              view        4810  1487580006317032337   \n",
              "\n",
              "    category_code brand  price    user_id  \\\n",
              "0                         5.16  388018099   \n",
              "1                         5.16  459659126   \n",
              "2                         5.16  405986628   \n",
              "3                         5.16  571731968   \n",
              "4                         5.16  601508456   \n",
              "..            ...   ...    ...        ...   \n",
              "995                       6.67  612193632   \n",
              "996                       6.67  514701786   \n",
              "997                       6.67  551061566   \n",
              "998                       6.67  465231019   \n",
              "999                       6.67  596582426   \n",
              "\n",
              "                               Session_id       Customer_id  \\\n",
              "0    843d560b-2069-4a0d-68af-f767f5341312   480374496_65446   \n",
              "1    457cee31-cfd9-4f75-909d-64f17021da9d  552795963_171732   \n",
              "2    a4354a0c-f44a-484c-96b7-b319f81e99de  405986628_283400   \n",
              "3    10ba57c9-187e-454a-b57c-cdc71388cbe5  610461263_109078   \n",
              "4    201af163-9d3f-45ae-9511-7f64d8e168c1   530951720_21726   \n",
              "..                                    ...               ...   \n",
              "995  a469ba53-4047-4a0a-a22e-05e7c922cb65  561323751_958571   \n",
              "996  67748dce-b81f-46a4-b943-2667fc5edb15  514701786_629210   \n",
              "997  41af1dc9-7c2f-4222-9919-18a449341d1b                     \n",
              "998  b65bbb4c-769a-45e0-b7db-99cbd6808883   465231019_93796   \n",
              "999  92687ce8-9831-4fba-a7cf-45421f819989  322047220_403170   \n",
              "\n",
              "                           Location  License_id Session_start_datetime  \\\n",
              "0               [-7.1208, -34.5019]     5921712    2020-01-25 18:23:12   \n",
              "1      [55.0342, 6.547499999999999]     5921712    2020-02-15 07:57:37   \n",
              "2               [20.6167, -96.1167]     5921712    2020-02-09 14:17:57   \n",
              "3                [25.7206, 76.8472]     5921712    2020-02-04 21:41:46   \n",
              "4                   [55.268, 1.476]     5921712    2020-01-27 21:33:14   \n",
              "..                              ...         ...                    ...   \n",
              "995             [51.8844, -94.1464]        4810    2020-02-12 02:29:12   \n",
              "996                [13.9833, 125.9]        4810    2020-02-15 16:25:37   \n",
              "997              [-11.72, -56.3278]        4810    2019-10-09 10:26:26   \n",
              "998  [18.822699999999998, 123.3295]        4810    2020-02-13 04:02:35   \n",
              "999             [29.9437, -88.9659]        4810    2020-01-14 03:46:40   \n",
              "\n",
              "    Session_end_datetime  duration   License_start_date     License_end_date  \n",
              "0    2020-01-26 05:19:12     656.0  2020-01-22 07:56:13  2020-02-27 05:38:51  \n",
              "1    2020-02-15 15:52:37     475.0  2020-01-22 07:56:13  2020-02-27 05:38:51  \n",
              "2    2020-02-10 02:48:57     751.0  2020-01-22 07:56:13  2020-02-27 05:38:51  \n",
              "3    2020-02-05 10:44:46     783.0  2020-01-22 07:56:13  2020-02-27 05:38:51  \n",
              "4    2020-01-28 14:48:14    1035.0  2020-01-22 07:56:13  2020-02-27 05:38:51  \n",
              "..                   ...       ...                  ...                  ...  \n",
              "995  2020-02-12 17:27:12     898.0  2019-09-30 21:07:40  2020-03-01 03:55:29  \n",
              "996  2020-02-16 01:54:37     569.0  2019-09-30 21:07:40  2020-03-01 03:55:29  \n",
              "997  2019-10-09 14:38:26     252.0  2019-09-30 21:07:40  2020-03-01 03:55:29  \n",
              "998  2020-02-13 16:53:35     771.0  2019-09-30 21:07:40  2020-03-01 03:55:29  \n",
              "999  2020-01-14 13:55:40     609.0  2019-09-30 21:07:40  2020-03-01 03:55:29  \n",
              "\n",
              "[1000 rows x 17 columns]"
            ]
          },
          "execution_count": 3,
          "metadata": {},
          "output_type": "execute_result"
        }
      ],
      "source": [
        "dataframe"
      ]
    },
    {
      "cell_type": "code",
      "execution_count": 4,
      "metadata": {
        "colab": {
          "base_uri": "https://localhost:8080/"
        },
        "id": "usrJSIgVj5lL",
        "outputId": "db7489a7-b429-44af-f474-7301bdb8353a"
      },
      "outputs": [
        {
          "name": "stdout",
          "output_type": "stream",
          "text": [
            "<class 'pandas.core.frame.DataFrame'>\n",
            "Index: 1000 entries, 0 to 999\n",
            "Data columns (total 17 columns):\n",
            " #   Column                  Non-Null Count  Dtype  \n",
            "---  ------                  --------------  -----  \n",
            " 0   event_time              1000 non-null   object \n",
            " 1   event_type              1000 non-null   object \n",
            " 2   product_id              1000 non-null   int64  \n",
            " 3   category_id             1000 non-null   int64  \n",
            " 4   category_code           1000 non-null   object \n",
            " 5   brand                   1000 non-null   object \n",
            " 6   price                   1000 non-null   float64\n",
            " 7   user_id                 1000 non-null   int64  \n",
            " 8   Session_id              1000 non-null   object \n",
            " 9   Customer_id             1000 non-null   object \n",
            " 10  Location                1000 non-null   object \n",
            " 11  License_id              1000 non-null   int64  \n",
            " 12  Session_start_datetime  1000 non-null   object \n",
            " 13  Session_end_datetime    1000 non-null   object \n",
            " 14  duration                1000 non-null   float64\n",
            " 15  License_start_date      1000 non-null   object \n",
            " 16  License_end_date        1000 non-null   object \n",
            "dtypes: float64(2), int64(4), object(11)\n",
            "memory usage: 140.6+ KB\n",
            "None\n"
          ]
        }
      ],
      "source": [
        "print(dataframe.info())"
      ]
    },
    {
      "cell_type": "markdown",
      "metadata": {
        "id": "g8nPUIZVazSn"
      },
      "source": [
        "# Création du graphe\n"
      ]
    },
    {
      "cell_type": "code",
      "execution_count": 5,
      "metadata": {
        "id": "Jdik8i6bY1k0"
      },
      "outputs": [],
      "source": [
        "from utils import IdentityEncoder, LocationEncoder, SessionIdEncoder, DateTimeEncoder\n",
        "import torch\n",
        "\n",
        "customer_encodings = {\n",
        "        \"Location\": LocationEncoder(dtype=torch.float),\n",
        "}\n",
        "product_encodings = {\n",
        "        \"price\": IdentityEncoder(dtype=torch.float),\n",
        "        \"category_id\": IdentityEncoder(dtype=torch.float),\n",
        "}\n",
        "session_encodings = {\n",
        "        \"Session_id\": SessionIdEncoder(dtype=torch.float),\n",
        "        \"Session_start_datetime\": DateTimeEncoder(dtype=torch.float),\n",
        "        \"Session_end_datetime\": DateTimeEncoder(dtype=torch.float),\n",
        "        \"user_id\": IdentityEncoder(dtype=torch.float),\n",
        "}\n",
        "licence_encodings = {\n",
        "        \"License_id\": IdentityEncoder(dtype=torch.float),\n",
        "        \"License_start_date\": DateTimeEncoder(dtype=torch.float),\n",
        "        \"License_end_date\": DateTimeEncoder(dtype=torch.float),\n",
        "}"
      ]
    },
    {
      "cell_type": "code",
      "execution_count": 6,
      "metadata": {
        "id": "idNrCU49W9I6"
      },
      "outputs": [],
      "source": [
        "from torch_geometric.data import HeteroData\n",
        "from utils import load_edge_csv, load_node_csv\n",
        "\n",
        "def generate_graph(dataframe):\n",
        "    data = HeteroData()\n",
        "\n",
        "    # Loading nodes into graph\n",
        "    data['customer'].x, customer_mapping = load_node_csv(dataframe, \"Customer_id\",customer_encodings)\n",
        "    data['product'].x, product_mapping = load_node_csv(dataframe, \"product_id\", product_encodings)\n",
        "    _, user_mapping = load_node_csv(dataframe, \"user_id\")\n",
        "    data['user'].num_nodes = len(user_mapping)  # user has no features\n",
        "\n",
        "    # Loading edges into graph\n",
        "    data['customer', 'has', 'user'].edge_index, _ = load_edge_csv(\n",
        "        dataframe,\n",
        "        src_index_col='Customer_id',\n",
        "        src_mapping=customer_mapping,\n",
        "        dst_index_col='user_id',\n",
        "        dst_mapping=user_mapping,\n",
        "    )\n",
        "\n",
        "    data['product', 'license','customer'].edge_index, data[\n",
        "        'product', 'license','customer'].edge_attr = load_edge_csv(\n",
        "        dataframe,\n",
        "        src_index_col='product_id',\n",
        "        src_mapping=product_mapping,\n",
        "        dst_index_col='Customer_id',\n",
        "        dst_mapping=customer_mapping,\n",
        "        encoders=licence_encodings\n",
        "    )\n",
        "    data['user', 'opened_session', 'product'].edge_index, data[\n",
        "        'user', 'opened_session', 'product'].edge_attr = load_edge_csv(\n",
        "        dataframe,\n",
        "        src_index_col='user_id',\n",
        "        src_mapping=user_mapping,\n",
        "        dst_index_col='product_id',\n",
        "        dst_mapping=product_mapping,\n",
        "        encoders=session_encodings\n",
        "    )\n",
        "    return data"
      ]
    },
    {
      "cell_type": "code",
      "execution_count": 7,
      "metadata": {},
      "outputs": [
        {
          "name": "stdout",
          "output_type": "stream",
          "text": [
            "HeteroData(\n",
            "  \u001b[1mcustomer\u001b[0m={ x=[1000, 2] },\n",
            "  \u001b[1mproduct\u001b[0m={ x=[1000, 2] },\n",
            "  \u001b[1muser\u001b[0m={ num_nodes=581 },\n",
            "  \u001b[1m(customer, has, user)\u001b[0m={ edge_index=[2, 1000] },\n",
            "  \u001b[1m(product, license, customer)\u001b[0m={\n",
            "    edge_index=[2, 1000],\n",
            "    edge_attr=[1000, 3]\n",
            "  },\n",
            "  \u001b[1m(user, opened_session, product)\u001b[0m={\n",
            "    edge_index=[2, 1000],\n",
            "    edge_attr=[1000, 4]\n",
            "  }\n",
            ")\n"
          ]
        }
      ],
      "source": [
        "data = generate_graph(dataframe)\n",
        "print(data)"
      ]
    },
    {
      "cell_type": "code",
      "execution_count": 8,
      "metadata": {
        "colab": {
          "base_uri": "https://localhost:8080/"
        },
        "id": "5z5Mz_zQc1UR",
        "outputId": "02d9668e-bed7-4baf-feca-0666c33420b8"
      },
      "outputs": [
        {
          "data": {
            "text/plain": [
              "{'customer': 1000, 'product': 1000, 'user': 581}"
            ]
          },
          "execution_count": 8,
          "metadata": {},
          "output_type": "execute_result"
        }
      ],
      "source": [
        "data.num_nodes_dict"
      ]
    },
    {
      "cell_type": "markdown",
      "metadata": {
        "id": "x-BjK_9LcoMd"
      },
      "source": [
        "# Preprocessing du graphe\n"
      ]
    },
    {
      "cell_type": "code",
      "execution_count": 9,
      "metadata": {
        "id": "j_CWh7RqsKzF"
      },
      "outputs": [
        {
          "name": "stderr",
          "output_type": "stream",
          "text": [
            "/home/othmane/Documents/PFE/.venv/lib/python3.10/site-packages/torch/utils/data/dataloader.py:560: UserWarning: This DataLoader will create 3 worker processes in total. Our suggested max number of worker in current system is 1, which is smaller than what this DataLoader is going to create. Please be aware that excessive worker creation might get DataLoader running slow or even freeze, lower the worker number to avoid potential slowness/freeze if necessary.\n",
            "  warnings.warn(_create_warning_msg(\n"
          ]
        }
      ],
      "source": [
        "from torch_geometric.nn import MetaPath2Vec\n",
        "from torch_sparse import SparseTensor\n",
        "\n",
        "metapath = [\n",
        "    ('customer', 'has', 'user'),\n",
        "    ('user', 'opened_session', 'product'),\n",
        "    ('product', 'license','customer')  \n",
        "]\n",
        "\n",
        "device = 'cuda' if torch.cuda.is_available() else 'cpu'\n",
        "model = MetaPath2Vec(data.edge_index_dict, embedding_dim=2,\n",
        "                     metapath=metapath, walk_length=5, context_size=3,\n",
        "                     walks_per_node=3, num_negative_samples=1,\n",
        "                     sparse=True).to(device)\n",
        "\n",
        "loader = model.loader(batch_size=32, shuffle=True, num_workers=3)\n",
        "optimizer = torch.optim.SparseAdam(list(model.parameters()), lr=0.01)\n",
        "\n",
        "\n",
        "def train(epoch, log_steps=100, eval_steps=2000):\n",
        "    model.train()\n",
        "\n",
        "    total_loss = 0\n",
        "    for i, (pos_rw, neg_rw) in enumerate(loader):\n",
        "        optimizer.zero_grad()\n",
        "        loss = model.loss(pos_rw.to(device), neg_rw.to(device))\n",
        "        loss.backward()\n",
        "        optimizer.step()\n",
        "\n",
        "        total_loss += loss.item()\n",
        "        if (i + 1) % log_steps == 0:\n",
        "            print((f'Epoch: {epoch}, Step: {i + 1:05d}/{len(loader)}, '\n",
        "                   f'Loss: {total_loss / log_steps:.4f}'))\n",
        "            total_loss = 0\n",
        "\n",
        "        "
      ]
    },
    {
      "cell_type": "code",
      "execution_count": 10,
      "metadata": {
        "colab": {
          "base_uri": "https://localhost:8080/"
        },
        "id": "lrRzgpLhskW1",
        "outputId": "69635f47-68a7-460d-913c-6f706b186110"
      },
      "outputs": [],
      "source": [
        "for epoch in range(1, 10):\n",
        "  train(epoch)"
      ]
    },
    {
      "cell_type": "code",
      "execution_count": 11,
      "metadata": {
        "colab": {
          "base_uri": "https://localhost:8080/"
        },
        "id": "SPgIKPFmGR5D",
        "outputId": "36a9f73e-b319-41ed-be90-7113b7ca35ba"
      },
      "outputs": [
        {
          "name": "stdout",
          "output_type": "stream",
          "text": [
            "HeteroData(\n",
            "  \u001b[1mcustomer\u001b[0m={ x=[1000, 2] },\n",
            "  \u001b[1mproduct\u001b[0m={ x=[1000, 2] },\n",
            "  \u001b[1muser\u001b[0m={\n",
            "    num_nodes=581,\n",
            "    x=[581, 2]\n",
            "  },\n",
            "  \u001b[1m(customer, has, user)\u001b[0m={ edge_index=[2, 1000] },\n",
            "  \u001b[1m(product, license, customer)\u001b[0m={\n",
            "    edge_index=[2, 1000],\n",
            "    edge_attr=[1000, 3]\n",
            "  },\n",
            "  \u001b[1m(user, opened_session, product)\u001b[0m={\n",
            "    edge_index=[2, 1000],\n",
            "    edge_attr=[1000, 4]\n",
            "  }\n",
            ")\n"
          ]
        }
      ],
      "source": [
        "data['user'].x=model('user')\n",
        "\n",
        "print(data)"
      ]
    },
    {
      "cell_type": "markdown",
      "metadata": {
        "id": "aLoWRmsKd1n9"
      },
      "source": [
        "Saving the graph for further testing"
      ]
    },
    {
      "cell_type": "code",
      "execution_count": 12,
      "metadata": {
        "id": "QogOqiBkpXVy"
      },
      "outputs": [],
      "source": [
        "torch.save(data, \"graph.pt\")"
      ]
    },
    {
      "cell_type": "markdown",
      "metadata": {
        "id": "x0nDKsqU8Aa3"
      },
      "source": [
        "# DOMINANT\n",
        "\n",
        "![The proposed framework](framework.png)"
      ]
    },
    {
      "cell_type": "code",
      "execution_count": 13,
      "metadata": {
        "id": "MK6moalA_sYe"
      },
      "outputs": [],
      "source": [
        "device = 'cuda' if torch.cuda.is_available() else 'cpu'"
      ]
    },
    {
      "cell_type": "markdown",
      "metadata": {
        "id": "vjXgVHoe8Gh3"
      },
      "source": [
        "On rajoute des transformations à notre graphe, propre à torch_geometric, pour que les performances d'apprentissage de nos réseaux de neurones soient plus hautes."
      ]
    },
    {
      "cell_type": "code",
      "execution_count": 14,
      "metadata": {
        "id": "GexunUPv8UAU"
      },
      "outputs": [],
      "source": [
        "import torch_geometric.transforms as T\n",
        "\n",
        "data = T.ToUndirected()(data)\n",
        "data = T.AddSelfLoops()(data)\n",
        "data = T.NormalizeFeatures()(data)\n",
        "data = T.ToDevice(device)(data)"
      ]
    },
    {
      "cell_type": "markdown",
      "metadata": {
        "id": "PN-7L2ROBotR"
      },
      "source": [
        "We train our model now"
      ]
    },
    {
      "cell_type": "code",
      "execution_count": 15,
      "metadata": {
        "id": "qmhdQN0WBij5"
      },
      "outputs": [
        {
          "name": "stdout",
          "output_type": "stream",
          "text": [
            "Epoch: 0000 train_loss= 3.36127 train/feat_loss= 0.61973\n"
          ]
        }
      ],
      "source": [
        "from torch_geometric.loader import NeighborLoader\n",
        "from model import Dominant, loss_func_train, loss_func_test\n",
        "from utils import dense_adj\n",
        "\n",
        "\n",
        "model = Dominant(feat_size=2, hidden_size=64, num_nodes_dict = data.num_nodes_dict, dropout=0.3, metadata=data.metadata()).to(device)\n",
        "optimizer = torch.optim.Adam(model.parameters(), lr = 5e-3)\n",
        "train_loader = NeighborLoader(\n",
        "    data,\n",
        "    # Sample 15 neighbors for each node and each edge type for 2 iterations:\n",
        "    num_neighbors=[15] * 2,\n",
        "    # Use a batch size of 128 for sampling training nodes of type \"paper\":\n",
        "    batch_size=32,\n",
        "    input_nodes=('customer'),\n",
        ")\n",
        "\n",
        "epochs = 1\n",
        "X = data.x_dict\n",
        "adj = dense_adj(data)\n",
        "\n",
        "for epoch in range(epochs):\n",
        "        model.train()\n",
        "        optimizer.zero_grad()\n",
        "        A_hat, X_hat = model(data.x_dict, data.edge_index_dict)\n",
        "        loss, struct_loss, feat_loss = loss_func_train(X, X_hat, adj, A_hat)\n",
        "        l = torch.mean(loss)\n",
        "        l.backward(retain_graph=True)\n",
        "        optimizer.step()        \n",
        "        print(\"Epoch:\", '%04d' % (epoch), \"train_loss=\", \"{:.5f}\".format(l.item()),\"train/feat_loss=\", \"{:.5f}\".format(feat_loss.item()))\n",
        "\n",
        "        # if epoch == epochs - 1:\n",
        "        #     model.eval()\n",
        "        #     A_hat, X_hat = model(data.x_dict, data.edge_index_dict)\n",
        "        #     loss, struct_loss, feat_loss = loss_func(X['customer'], X_hat['customer'])\n",
        "        #     score = loss.detach().cpu().numpy()\n",
        "        #     print(\"Score = \", score)"
      ]
    },
    {
      "cell_type": "code",
      "execution_count": 16,
      "metadata": {
        "colab": {
          "base_uri": "https://localhost:8080/"
        },
        "id": "vD1uCwmTEL3v",
        "outputId": "1fb72848-5039-4c14-a461-b0d26dc1946f"
      },
      "outputs": [
        {
          "name": "stdout",
          "output_type": "stream",
          "text": [
            "Score =  [0.5490602  0.46584153 0.5456789  0.30138168 0.28215313 0.13683842\n",
            " 0.56195325 0.1568579  0.2823684  0.5904142  0.162146   0.31566143\n",
            " 0.49102774 0.60641307 0.48135749 0.56343025 0.6026771  0.70979804\n",
            " 0.5121803  0.24602896 0.36202833 0.722054   0.6650754  0.3425091\n",
            " 0.3409965  0.3150705  0.5258348  0.54789335 0.07182362 0.44697732\n",
            " 0.25242344 0.34971362 0.21716468 0.24417703 0.3005462  0.34793943\n",
            " 0.20913118 0.4185117  0.11430482 0.27168134 0.37676388 0.51085454\n",
            " 0.37776443 0.23599829 0.10316314 0.47775063 0.10582247 0.4729387\n",
            " 0.32018968 0.9862269  0.51741534 0.71544814 0.25345492 0.71508497\n",
            " 0.4228449  0.19055523 0.29404622 0.49799165 0.46902895 0.96300954\n",
            " 0.5658795  0.7369426  0.65345377 0.39049697 0.56400496 0.37159526\n",
            " 0.13241121 0.32234725 0.2686462  0.48280028 0.6277204  0.69611996\n",
            " 0.29928225 0.6646999  0.24685448 0.5337853  0.4334252  0.14657682\n",
            " 0.8489172  0.2067341  0.26053047 0.48895186 0.4685598  0.56706846\n",
            " 0.40895364 0.07124864 0.5288472  0.3519657  0.39788744 0.41743526\n",
            " 0.7691153  0.3590259  0.34963375 0.29319915 0.56301445 0.44458523\n",
            " 0.30859038 0.20824118 0.35534668 0.22772712 0.80898845 0.05369073\n",
            " 0.48461935 0.24971034 0.21689807 0.5163266  0.29858854 0.33109614\n",
            " 0.12705952 0.0394097  0.8042539  0.32107455 0.5079936  0.6451944\n",
            " 0.23297589 0.29764405 0.14852247 0.59194267 0.5567734  0.52979285\n",
            " 0.32543737 0.61638415 0.4461727  0.52747333 0.5223171  0.54821354\n",
            " 0.32658938 0.77122617 0.23104203 0.5579353  0.5270945  0.62616414\n",
            " 0.7333816  0.5425899  0.3333873  0.6036937  0.42913547 0.28928113\n",
            " 0.71508247 0.50273436 0.391257   0.26668295 0.16562016 0.52465147\n",
            " 0.639419   0.41141528 0.46907157 0.74588114 0.10837239 0.48965573\n",
            " 0.6835183  0.3601844  0.29972005 0.46590015 0.2860387  0.430002\n",
            " 0.69347376 0.2937513  0.4923505  0.75656235 0.456648   0.34435028\n",
            " 0.8725816  0.1553876  0.4853966  0.2024714  0.7306677  0.57378626\n",
            " 0.12232015 0.29115158 0.3881227  0.3410617  0.18228167 0.23113476\n",
            " 0.7809431  1.0147674  0.6841073  0.49025756 0.29491237 0.14407541\n",
            " 0.35952365 0.08105507 0.2969033  0.38309258 0.37064046 0.13012908\n",
            " 0.5258943  0.2614007  0.7482901  0.73783547 0.28858265 0.5581711\n",
            " 0.6141522  0.6097378  0.33736882 0.35255668 0.07369891 0.32333174\n",
            " 0.23802876 0.2825846  0.31453767 0.32691905 0.79186606 0.60781306\n",
            " 0.64662105 0.78085023 0.2554065  0.5943566  0.6842862  0.7073666\n",
            " 0.14699906 0.54733795 0.75751436 0.28010803 0.68749774 0.19552897\n",
            " 0.5768013  0.8339944  1.3213438  0.14222969 0.38855967 0.58065885\n",
            " 0.09317415 0.75395495 0.09396739 0.5713176  0.17390488 0.42216522\n",
            " 0.3381761  0.6472413  0.24984555 0.5509985  0.40074393 0.46337003\n",
            " 0.11205824 0.6942935  0.47361895 0.415217   0.7302213  0.3394133\n",
            " 0.25929412 0.30359626 0.15522517 0.57602406 0.08250675 0.34732506\n",
            " 0.6942132  0.3054514  0.28722104 0.5048998  0.11687768 0.17781262\n",
            " 0.4346736  0.53759474 0.21930237 0.6736529  0.68000674 0.4875383\n",
            " 0.38504457 0.8450492  0.40979326 0.66645575 0.38787732 0.18937597\n",
            " 0.44923976 0.21635906 0.40802708 0.2635005  0.17943302 0.22244056\n",
            " 0.64108807 0.42203584 0.5682171  0.42775553 0.5889473  0.69752616\n",
            " 0.38511473 0.4328236  0.45471567 0.65970194 0.34541208 0.41695267\n",
            " 0.10217272 0.6246221  0.4690139  0.35205728 0.3348892  0.5860869\n",
            " 0.76733917 1.0123568  0.41910598 0.61869144 0.7242744  0.34195343\n",
            " 0.5339667  0.41699824 1.0583427  0.7446278  0.7813093  0.14147492\n",
            " 0.5022367  0.61116856 0.51896137 0.6957742  0.54130614 0.32448623\n",
            " 0.359114   0.25690457 0.23854448 0.21075408 0.50562584 0.26805422\n",
            " 0.46687663 0.4690636  0.31039253 0.37116304 0.06112554 0.72574914\n",
            " 0.23019703 0.8662541  0.22890204 0.5880038  0.27268395 0.20601846\n",
            " 0.56401956 0.6866951  0.30553895 0.19481269 0.56394213 0.3281813\n",
            " 0.09105007 0.1145421  0.54845357 0.83685625 0.33735964 0.4273666\n",
            " 0.33370066 0.39092767 0.24188834 0.20664397 0.5506812  0.33954632\n",
            " 0.5367575  0.6641702  0.1332814  0.935383   0.2327051  0.6064614\n",
            " 0.22321956 0.21367167 0.426744   0.11048315 0.49332312 0.24342069\n",
            " 0.19078797 0.26953506 0.56970054 0.09457004 0.4299355  0.19189687\n",
            " 0.30542237 0.6028607  0.3208073  0.2551996  0.32746086 0.8012317\n",
            " 0.49583685 1.2998712  0.9545621  0.148279   0.27103502 0.35561606\n",
            " 0.43968758 0.08174685 0.6000615  0.10177001 0.4053153  0.5825023\n",
            " 0.44397548 0.55516684 0.6033666  0.5138523  0.39151403 0.0516214\n",
            " 0.69833696 0.08714775 0.36343154 0.44782373 0.7045495  0.33407184\n",
            " 0.42637977 0.34721544 0.48145485 0.5664591  0.23189065 0.57855093\n",
            " 0.5213115  0.41105163 0.6239055  0.50258243 0.72702265 0.6022102\n",
            " 0.7849009  0.69376206 0.6237656  0.42556947 0.11776818 0.2562562\n",
            " 0.33326122 0.35913786 0.5710381  0.6838879  0.29687628 0.34581622\n",
            " 0.5550797  0.5373454  0.2572628  0.25465983 0.5846503  0.64670485\n",
            " 0.6348795  0.38287184 0.5807796  0.7113074  0.57367814 0.14524443\n",
            " 0.06093267 0.8702329  0.85880953 0.08800254 0.62302864 0.7986446\n",
            " 0.39288193 0.4898741  0.3608187  0.20772904 0.21953629 0.13793726\n",
            " 0.26637772 0.27454814 0.20182659 0.47987622 0.14686988 0.75635034\n",
            " 0.13768226 0.45017216 0.15701903 0.71805954 0.517928   0.2932865\n",
            " 0.44413126 0.5623155  0.6524875  0.2447578  0.5250622  0.52523386\n",
            " 0.26274696 0.4863291  0.34579402 0.7277386  0.57320964 0.45745027\n",
            " 0.5975556  0.6009518  0.7713041  0.45048112 0.19833589 0.07949491\n",
            " 0.3972555  0.73112595 0.46522596 0.48664764 0.54043025 0.0918586\n",
            " 0.22534715 0.266329   0.8501296  0.4816843  0.6269796  0.7309033\n",
            " 0.6141449  0.54301417 0.5757752  0.32898295 0.8394906  0.27864796\n",
            " 0.17899106 0.4784289  0.5615935  0.6203211  0.06380186 0.09586573\n",
            " 0.45828506 0.40534404 0.38895562 0.3654879  0.4292065  1.006356\n",
            " 0.25393522 0.5113592  0.5608634  0.05001204 0.61134857 0.57048565\n",
            " 0.26986232 0.5844305  0.47273147 0.47618458 0.4453498  0.488231\n",
            " 0.27464238 0.44538063 0.6497414  0.25301906 0.39582226 0.454819\n",
            " 0.4916419  0.50138927 0.44528282 0.32688433 0.44057408 0.3222452\n",
            " 0.53253424 0.6638596  0.4662505  0.55185664 0.2792016  0.4947231\n",
            " 0.52424896 0.4618148  0.6534127  0.25669977 0.5295483  0.46613744\n",
            " 0.44872442 0.5728728  0.4491189  0.5835891  0.19278742 0.45517883\n",
            " 0.4530745  0.45003048 0.45021495 0.45575762 0.49277154 0.46842912\n",
            " 0.43909946 0.31284782 0.67038465 0.44383448 0.47737417 0.250655\n",
            " 0.30347553 0.4808855  0.56242156 0.5015627  0.4536618  0.2983212\n",
            " 0.4662554  0.6047006  0.45340303 0.52941495 0.45935172 0.6002896\n",
            " 0.60913426 0.6121092  0.51020694 0.5108853  0.39268318 0.40534177\n",
            " 0.31163284 0.4529359  0.47749177 0.16413589 0.6843173  0.24038859\n",
            " 0.4543521  0.40655798 0.5255437  0.44289693 0.4730061  0.4362349\n",
            " 0.692559   0.48921576 0.50975406 0.49465325 0.45857677 0.58313555\n",
            " 0.31136566 0.40005305 0.4031857  0.5262486  0.06726971 0.46499944\n",
            " 0.42923632 0.57109004 0.5741715  0.61134547 0.36417148 0.5103797\n",
            " 0.5228819  0.34496063 0.43345588 0.50208    0.61862946 0.43194306\n",
            " 0.48111048 0.29590562 0.55425584 0.31440833 0.30742833 0.43478054\n",
            " 0.4545027  0.1546949  0.5513941  0.51908535 0.54035574 0.26396695\n",
            " 0.580125   0.44491905 0.43073168 0.25296962 0.6578755  0.7094798\n",
            " 0.6139451  0.3882275  0.47746366 0.48361993 0.5063972  0.6461667\n",
            " 0.45274627 0.1601062  0.2954894  0.36943522 0.37395123 0.53614604\n",
            " 0.33503145 0.47641155 0.30757087 0.47367153 0.4856376  0.7110569\n",
            " 0.15448098 0.56677663 0.40367872 0.40305266 0.5398639  0.54942334\n",
            " 0.4437052  0.40338865 0.6033507  0.48061457 0.63112265 0.33571234\n",
            " 0.3117785  0.46740565 0.37436756 0.46437913 0.400131   0.31768665\n",
            " 0.60862094 0.5563962  0.46164608 0.3987999  0.39139587 0.8174978\n",
            " 0.6221873  0.45736408 0.5866111  0.4650948  0.52869684 0.42165458\n",
            " 0.52154964 0.45727372 0.47936812 0.4966068  0.49047393 0.42727047\n",
            " 0.6165396  0.2731309  0.7413048  0.19299147 0.42472172 0.5848096\n",
            " 0.6671004  0.50098634 0.19312398 0.43341216 0.6092679  0.66823095\n",
            " 0.4018549  0.61290795 0.5231416  0.555015   0.4558782  0.46713084\n",
            " 0.63033974 0.3654962  0.46096498 0.6106032  0.28896096 0.58104515\n",
            " 0.54513985 0.50975543 0.54283535 0.43291864 0.45515385 0.5187814\n",
            " 0.52410316 0.5325327  0.34760734 0.47044507 0.45148328 0.42283124\n",
            " 0.4376483  0.45801738 0.47238776 0.32114628 0.12047762 0.42302182\n",
            " 0.47585398 0.45035473 0.419786   0.42992482 0.15436651 0.5242862\n",
            " 0.49400797 0.34397614 0.5359618  0.55413795 0.61490273 0.4578351\n",
            " 0.4758071  0.6834787  0.8365887  0.37846628 0.56104416 0.6574099\n",
            " 0.49404547 0.47774455 0.4736587  0.2603431  0.32538953 0.45068064\n",
            " 0.38639125 0.63077456 0.4536543  0.22639066 0.24787663 0.36292323\n",
            " 0.505297   0.27570307 0.45900187 0.15463841 0.45418668 0.68762505\n",
            " 0.53870416 0.3102707  0.49648663 0.3218408  0.46021977 0.45086992\n",
            " 0.44780302 0.549693   0.4498923  0.51755404 0.69180703 0.569142\n",
            " 0.43352517 0.27474207 0.35060528 0.22416501 0.05751556 0.6592403\n",
            " 0.43458182 0.38481298 0.4406161  0.2703502  0.46569914 0.29753458\n",
            " 0.48168138 0.47094408 0.5192708  0.47483394 0.30693895 0.48086545\n",
            " 0.4574015  0.43281505 0.49004948 0.24407928 0.27900574 0.29249334\n",
            " 0.48409352 0.3283335  0.4594359  0.25548035 0.4048188  0.3417776\n",
            " 0.47961533 0.4471115  0.48335487 0.5428319  0.5157694  0.4618475\n",
            " 0.30660725 0.49777725 0.32926077 0.74994624 0.5007216  0.5432521\n",
            " 0.42413428 0.6102427  0.48010936 0.41806474 0.43790528 0.27207306\n",
            " 0.51483357 0.4608919  0.4703245  0.69464874 0.4583559  0.37037525\n",
            " 0.53814095 0.25508827 0.44252872 0.29884696 0.29052553 0.68460065\n",
            " 0.423546   0.3604165  0.4585176  0.58467203 0.517097   0.65477324\n",
            " 0.4812899  0.31903234 0.48164666 0.36815163 0.19124375 0.54850113\n",
            " 0.5361136  0.53121454 0.31540087 0.44872284 0.53266954 0.47533277\n",
            " 0.5486449  0.38019863 0.34231466 0.3522851  0.4776488  0.5438295\n",
            " 0.46893513 0.39300615 0.538095   0.265208   0.5100594  0.7311972\n",
            " 0.48404583 0.4468102  0.47640762 0.41051045 0.4393525  0.4543173\n",
            " 0.21463495 0.56860894 0.49931055 0.45134157 0.6009752  0.5526463\n",
            " 0.51197773 0.6054361  0.05744543 0.41606405 0.46624297 0.12593138\n",
            " 0.33400306 0.23043308 0.49497247 0.42660612 0.4744687  0.10677638\n",
            " 0.7356892  0.4468689  0.38825178 0.49503034 0.4692064  0.4418889\n",
            " 0.6045601  0.1749351  0.20825647 0.12455046 0.45630208 0.45391318\n",
            " 0.3297414  0.44648153 0.4820848  0.37099814 0.43850175 0.39118677\n",
            " 0.44211054 0.40198    0.4133696  0.18152264 0.45338404 0.43109366\n",
            " 0.7003637  0.58688325 0.6194398  0.51754194 0.2484568  0.34956527\n",
            " 0.2836295  0.7484898  0.44479534 0.46375814 0.24998485 0.49020937\n",
            " 0.33377755 0.55854416 0.5166554  0.26978576 0.26651785 0.47504997\n",
            " 0.5537772  0.43756622 0.47192478 0.74588215 0.45466673 0.43382862\n",
            " 0.5189763  0.24501558 0.62761396 0.6373557  0.47975048 0.4039852\n",
            " 0.4587411  0.43466747 0.47392926 0.47488707 0.4856877  0.4657145\n",
            " 0.08752954 0.43783394 0.45676237 0.462535   0.43643415 0.4849597\n",
            " 0.42880747 0.4320686  0.25695124 0.57042617 0.5494567  0.32235453\n",
            " 0.37504065 0.82554775 0.45356798 0.5842179  0.51149094 0.42167526\n",
            " 0.33538905 0.4622013  0.54626817 0.50370836 0.46207955 0.2791903\n",
            " 0.23230045 0.26765677 0.41591597 0.25253797 0.45430195 0.40330565\n",
            " 0.49298286 0.24186602 0.5989332  0.45616096 0.79021406 0.6565755\n",
            " 0.34056953 0.36127442 0.6534766  0.46557957 0.06902694 0.56373084\n",
            " 0.58062273 0.34944975 0.2367214  0.30792493 0.5536897  0.45730388\n",
            " 0.5098244  0.23932186 0.6651483  0.5987658  0.40792787 0.33617294\n",
            " 0.6962253  0.4613486  0.6128259  0.26963875]\n"
          ]
        }
      ],
      "source": [
        "model.eval()\n",
        "A_hat, X_hat = model(data.x_dict, data.edge_index_dict)\n",
        "loss, struct_loss, feat_loss = loss_func_test(X['customer'], X_hat['customer'])\n",
        "score = loss.detach().cpu().numpy()\n",
        "print(\"Score = \", score)"
      ]
    },
    {
      "cell_type": "code",
      "execution_count": 26,
      "metadata": {
        "colab": {
          "base_uri": "https://localhost:8080/"
        },
        "id": "0WuSyZpsE2HH",
        "outputId": "52889eef-3ad9-4612-9864-63d1f0062811"
      },
      "outputs": [
        {
          "data": {
            "text/plain": [
              "1000"
            ]
          },
          "execution_count": 26,
          "metadata": {},
          "output_type": "execute_result"
        }
      ],
      "source": [
        "len(score)"
      ]
    },
    {
      "cell_type": "code",
      "execution_count": null,
      "metadata": {
        "id": "jBx1WP6NE_6z"
      },
      "outputs": [],
      "source": []
    }
  ],
  "metadata": {
    "colab": {
      "machine_shape": "hm",
      "name": "Dominant.ipynb",
      "provenance": []
    },
    "kernelspec": {
      "display_name": "Python 3",
      "name": "python3"
    },
    "language_info": {
      "codemirror_mode": {
        "name": "ipython",
        "version": 3
      },
      "file_extension": ".py",
      "mimetype": "text/x-python",
      "name": "python",
      "nbconvert_exporter": "python",
      "pygments_lexer": "ipython3",
      "version": "3.10.9"
    }
  },
  "nbformat": 4,
  "nbformat_minor": 0
}
