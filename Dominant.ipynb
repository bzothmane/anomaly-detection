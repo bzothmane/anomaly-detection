{
  "cells": [
    {
      "cell_type": "markdown",
      "metadata": {},
      "source": [
        "# Anomaly Detection in Graphs using Self-Supervised Learning\n",
        "\n",
        "![CentraleSupelec Logo](https://www.centralesupelec.fr/sites/all/themes/cs_theme/medias/common/images/intro/logo_nouveau.jpg)\n",
        "\n",
        "This project represents my end-of-studies project, that was developped for a big company and in association with French Engineering school CentraleSupélec.\n",
        "\n",
        "Having signed an NDA, we do not have the right to share the company's data. The data we will use is from a re-adapted Kaggle dataset :\n",
        "```\n",
        "https://www.kaggle.com/datasets/mkechinov/ecommerce-events-history-in-cosmetics-shop/\n",
        "```\n",
        "\n",
        "The idea behind this project is to use the algorithm called DOMINANT (**D**eep An**om**aly Detect**i**o**n** on **A**tribbuted **N**e**t**works), a novel graph autoencoder framework, and to adapt it to a heterogeneous graph representing the ecosystem of users and softwares from the company."
      ]
    },
    {
      "cell_type": "markdown",
      "metadata": {
        "id": "0KYTNT9pw6PW"
      },
      "source": [
        "## Preprocessing the tabular data\n",
        "\n",
        "In our sample data, we have e-commerce events, and we would like to convert those events into a **heterogeneous graph** with three types of nodes, *product*, *customer* and *user*, and with that also three types of edges that add some logic to these nodes."
      ]
    },
    {
      "cell_type": "code",
      "execution_count": 8,
      "metadata": {
        "id": "KkocpklUisxl"
      },
      "outputs": [],
      "source": [
        "import pandas as pd"
      ]
    },
    {
      "cell_type": "code",
      "execution_count": 9,
      "metadata": {
        "id": "obKJ7xtSht-Z"
      },
      "outputs": [],
      "source": [
        "database_path = \"data/data_out_head_head.csv\"\n",
        "\n",
        "dataframe = pd.read_csv(database_path, index_col=0).fillna(\"\")"
      ]
    },
    {
      "cell_type": "code",
      "execution_count": 10,
      "metadata": {},
      "outputs": [
        {
          "data": {
            "text/html": [
              "<div>\n",
              "<style scoped>\n",
              "    .dataframe tbody tr th:only-of-type {\n",
              "        vertical-align: middle;\n",
              "    }\n",
              "\n",
              "    .dataframe tbody tr th {\n",
              "        vertical-align: top;\n",
              "    }\n",
              "\n",
              "    .dataframe thead th {\n",
              "        text-align: right;\n",
              "    }\n",
              "</style>\n",
              "<table border=\"1\" class=\"dataframe\">\n",
              "  <thead>\n",
              "    <tr style=\"text-align: right;\">\n",
              "      <th></th>\n",
              "      <th>event_time</th>\n",
              "      <th>event_type</th>\n",
              "      <th>product_id</th>\n",
              "      <th>category_id</th>\n",
              "      <th>category_code</th>\n",
              "      <th>brand</th>\n",
              "      <th>price</th>\n",
              "      <th>user_id</th>\n",
              "      <th>Session_id</th>\n",
              "      <th>Customer_id</th>\n",
              "      <th>Location</th>\n",
              "      <th>License_id</th>\n",
              "      <th>Session_start_datetime</th>\n",
              "      <th>Session_end_datetime</th>\n",
              "      <th>duration</th>\n",
              "      <th>License_start_date</th>\n",
              "      <th>License_end_date</th>\n",
              "    </tr>\n",
              "  </thead>\n",
              "  <tbody>\n",
              "    <tr>\n",
              "      <th>0</th>\n",
              "      <td>2020-01-25 23:46:12</td>\n",
              "      <td>cart</td>\n",
              "      <td>5921712</td>\n",
              "      <td>2115334439910245200</td>\n",
              "      <td></td>\n",
              "      <td></td>\n",
              "      <td>5.16</td>\n",
              "      <td>388018099</td>\n",
              "      <td>843d560b-2069-4a0d-68af-f767f5341312</td>\n",
              "      <td>480374496_65446</td>\n",
              "      <td>[-7.1208, -34.5019]</td>\n",
              "      <td>5921712</td>\n",
              "      <td>2020-01-25 18:23:12</td>\n",
              "      <td>2020-01-26 05:19:12</td>\n",
              "      <td>656.0</td>\n",
              "      <td>2020-01-22 07:56:13</td>\n",
              "      <td>2020-02-27 05:38:51</td>\n",
              "    </tr>\n",
              "    <tr>\n",
              "      <th>1</th>\n",
              "      <td>2020-02-15 14:43:37</td>\n",
              "      <td>remove_from_cart</td>\n",
              "      <td>5921712</td>\n",
              "      <td>2115334439910245200</td>\n",
              "      <td></td>\n",
              "      <td></td>\n",
              "      <td>5.16</td>\n",
              "      <td>459659126</td>\n",
              "      <td>457cee31-cfd9-4f75-909d-64f17021da9d</td>\n",
              "      <td>552795963_171732</td>\n",
              "      <td>[55.0342, 6.547499999999999]</td>\n",
              "      <td>5921712</td>\n",
              "      <td>2020-02-15 07:57:37</td>\n",
              "      <td>2020-02-15 15:52:37</td>\n",
              "      <td>475.0</td>\n",
              "      <td>2020-01-22 07:56:13</td>\n",
              "      <td>2020-02-27 05:38:51</td>\n",
              "    </tr>\n",
              "    <tr>\n",
              "      <th>2</th>\n",
              "      <td>2020-02-09 20:57:57</td>\n",
              "      <td>remove_from_cart</td>\n",
              "      <td>5921712</td>\n",
              "      <td>2115334439910245200</td>\n",
              "      <td></td>\n",
              "      <td></td>\n",
              "      <td>5.16</td>\n",
              "      <td>405986628</td>\n",
              "      <td>a4354a0c-f44a-484c-96b7-b319f81e99de</td>\n",
              "      <td>405986628_283400</td>\n",
              "      <td>[20.6167, -96.1167]</td>\n",
              "      <td>5921712</td>\n",
              "      <td>2020-02-09 14:17:57</td>\n",
              "      <td>2020-02-10 02:48:57</td>\n",
              "      <td>751.0</td>\n",
              "      <td>2020-01-22 07:56:13</td>\n",
              "      <td>2020-02-27 05:38:51</td>\n",
              "    </tr>\n",
              "    <tr>\n",
              "      <th>3</th>\n",
              "      <td>2020-02-05 05:30:46</td>\n",
              "      <td>view</td>\n",
              "      <td>5921712</td>\n",
              "      <td>2115334439910245200</td>\n",
              "      <td></td>\n",
              "      <td></td>\n",
              "      <td>5.16</td>\n",
              "      <td>571731968</td>\n",
              "      <td>10ba57c9-187e-454a-b57c-cdc71388cbe5</td>\n",
              "      <td>610461263_109078</td>\n",
              "      <td>[25.7206, 76.8472]</td>\n",
              "      <td>5921712</td>\n",
              "      <td>2020-02-04 21:41:46</td>\n",
              "      <td>2020-02-05 10:44:46</td>\n",
              "      <td>783.0</td>\n",
              "      <td>2020-01-22 07:56:13</td>\n",
              "      <td>2020-02-27 05:38:51</td>\n",
              "    </tr>\n",
              "    <tr>\n",
              "      <th>4</th>\n",
              "      <td>2020-01-28 07:17:14</td>\n",
              "      <td>cart</td>\n",
              "      <td>5921712</td>\n",
              "      <td>2115334439910245200</td>\n",
              "      <td></td>\n",
              "      <td></td>\n",
              "      <td>5.16</td>\n",
              "      <td>601508456</td>\n",
              "      <td>201af163-9d3f-45ae-9511-7f64d8e168c1</td>\n",
              "      <td>530951720_21726</td>\n",
              "      <td>[55.268, 1.476]</td>\n",
              "      <td>5921712</td>\n",
              "      <td>2020-01-27 21:33:14</td>\n",
              "      <td>2020-01-28 14:48:14</td>\n",
              "      <td>1035.0</td>\n",
              "      <td>2020-01-22 07:56:13</td>\n",
              "      <td>2020-02-27 05:38:51</td>\n",
              "    </tr>\n",
              "    <tr>\n",
              "      <th>...</th>\n",
              "      <td>...</td>\n",
              "      <td>...</td>\n",
              "      <td>...</td>\n",
              "      <td>...</td>\n",
              "      <td>...</td>\n",
              "      <td>...</td>\n",
              "      <td>...</td>\n",
              "      <td>...</td>\n",
              "      <td>...</td>\n",
              "      <td>...</td>\n",
              "      <td>...</td>\n",
              "      <td>...</td>\n",
              "      <td>...</td>\n",
              "      <td>...</td>\n",
              "      <td>...</td>\n",
              "      <td>...</td>\n",
              "      <td>...</td>\n",
              "    </tr>\n",
              "    <tr>\n",
              "      <th>995</th>\n",
              "      <td>2020-02-12 10:30:12</td>\n",
              "      <td>view</td>\n",
              "      <td>4810</td>\n",
              "      <td>1487580006317032337</td>\n",
              "      <td></td>\n",
              "      <td></td>\n",
              "      <td>6.67</td>\n",
              "      <td>612193632</td>\n",
              "      <td>a469ba53-4047-4a0a-a22e-05e7c922cb65</td>\n",
              "      <td>561323751_958571</td>\n",
              "      <td>[51.8844, -94.1464]</td>\n",
              "      <td>4810</td>\n",
              "      <td>2020-02-12 02:29:12</td>\n",
              "      <td>2020-02-12 17:27:12</td>\n",
              "      <td>898.0</td>\n",
              "      <td>2019-09-30 21:07:40</td>\n",
              "      <td>2020-03-01 03:55:29</td>\n",
              "    </tr>\n",
              "    <tr>\n",
              "      <th>996</th>\n",
              "      <td>2020-02-15 18:39:37</td>\n",
              "      <td>cart</td>\n",
              "      <td>4810</td>\n",
              "      <td>1487580006317032337</td>\n",
              "      <td></td>\n",
              "      <td></td>\n",
              "      <td>6.67</td>\n",
              "      <td>514701786</td>\n",
              "      <td>67748dce-b81f-46a4-b943-2667fc5edb15</td>\n",
              "      <td>514701786_629210</td>\n",
              "      <td>[13.9833, 125.9]</td>\n",
              "      <td>4810</td>\n",
              "      <td>2020-02-15 16:25:37</td>\n",
              "      <td>2020-02-16 01:54:37</td>\n",
              "      <td>569.0</td>\n",
              "      <td>2019-09-30 21:07:40</td>\n",
              "      <td>2020-03-01 03:55:29</td>\n",
              "    </tr>\n",
              "    <tr>\n",
              "      <th>997</th>\n",
              "      <td>2019-10-09 11:13:26</td>\n",
              "      <td>view</td>\n",
              "      <td>4810</td>\n",
              "      <td>1487580006317032337</td>\n",
              "      <td></td>\n",
              "      <td></td>\n",
              "      <td>6.67</td>\n",
              "      <td>551061566</td>\n",
              "      <td>41af1dc9-7c2f-4222-9919-18a449341d1b</td>\n",
              "      <td></td>\n",
              "      <td>[-11.72, -56.3278]</td>\n",
              "      <td>4810</td>\n",
              "      <td>2019-10-09 10:26:26</td>\n",
              "      <td>2019-10-09 14:38:26</td>\n",
              "      <td>252.0</td>\n",
              "      <td>2019-09-30 21:07:40</td>\n",
              "      <td>2020-03-01 03:55:29</td>\n",
              "    </tr>\n",
              "    <tr>\n",
              "      <th>998</th>\n",
              "      <td>2020-02-13 12:17:35</td>\n",
              "      <td>cart</td>\n",
              "      <td>4810</td>\n",
              "      <td>1487580006317032337</td>\n",
              "      <td></td>\n",
              "      <td></td>\n",
              "      <td>6.67</td>\n",
              "      <td>465231019</td>\n",
              "      <td>b65bbb4c-769a-45e0-b7db-99cbd6808883</td>\n",
              "      <td>465231019_93796</td>\n",
              "      <td>[18.822699999999998, 123.3295]</td>\n",
              "      <td>4810</td>\n",
              "      <td>2020-02-13 04:02:35</td>\n",
              "      <td>2020-02-13 16:53:35</td>\n",
              "      <td>771.0</td>\n",
              "      <td>2019-09-30 21:07:40</td>\n",
              "      <td>2020-03-01 03:55:29</td>\n",
              "    </tr>\n",
              "    <tr>\n",
              "      <th>999</th>\n",
              "      <td>2020-01-14 11:30:40</td>\n",
              "      <td>view</td>\n",
              "      <td>4810</td>\n",
              "      <td>1487580006317032337</td>\n",
              "      <td></td>\n",
              "      <td></td>\n",
              "      <td>6.67</td>\n",
              "      <td>596582426</td>\n",
              "      <td>92687ce8-9831-4fba-a7cf-45421f819989</td>\n",
              "      <td>322047220_403170</td>\n",
              "      <td>[29.9437, -88.9659]</td>\n",
              "      <td>4810</td>\n",
              "      <td>2020-01-14 03:46:40</td>\n",
              "      <td>2020-01-14 13:55:40</td>\n",
              "      <td>609.0</td>\n",
              "      <td>2019-09-30 21:07:40</td>\n",
              "      <td>2020-03-01 03:55:29</td>\n",
              "    </tr>\n",
              "  </tbody>\n",
              "</table>\n",
              "<p>1000 rows × 17 columns</p>\n",
              "</div>"
            ],
            "text/plain": [
              "              event_time  ...     License_end_date\n",
              "0    2020-01-25 23:46:12  ...  2020-02-27 05:38:51\n",
              "1    2020-02-15 14:43:37  ...  2020-02-27 05:38:51\n",
              "2    2020-02-09 20:57:57  ...  2020-02-27 05:38:51\n",
              "3    2020-02-05 05:30:46  ...  2020-02-27 05:38:51\n",
              "4    2020-01-28 07:17:14  ...  2020-02-27 05:38:51\n",
              "..                   ...  ...                  ...\n",
              "995  2020-02-12 10:30:12  ...  2020-03-01 03:55:29\n",
              "996  2020-02-15 18:39:37  ...  2020-03-01 03:55:29\n",
              "997  2019-10-09 11:13:26  ...  2020-03-01 03:55:29\n",
              "998  2020-02-13 12:17:35  ...  2020-03-01 03:55:29\n",
              "999  2020-01-14 11:30:40  ...  2020-03-01 03:55:29\n",
              "\n",
              "[1000 rows x 17 columns]"
            ]
          },
          "execution_count": 10,
          "metadata": {},
          "output_type": "execute_result"
        }
      ],
      "source": [
        "dataframe"
      ]
    },
    {
      "cell_type": "code",
      "execution_count": 11,
      "metadata": {
        "colab": {
          "base_uri": "https://localhost:8080/"
        },
        "id": "usrJSIgVj5lL",
        "outputId": "db7489a7-b429-44af-f474-7301bdb8353a"
      },
      "outputs": [
        {
          "name": "stdout",
          "output_type": "stream",
          "text": [
            "<class 'pandas.core.frame.DataFrame'>\n",
            "Index: 1000 entries, 0 to 999\n",
            "Data columns (total 17 columns):\n",
            " #   Column                  Non-Null Count  Dtype  \n",
            "---  ------                  --------------  -----  \n",
            " 0   event_time              1000 non-null   object \n",
            " 1   event_type              1000 non-null   object \n",
            " 2   product_id              1000 non-null   int64  \n",
            " 3   category_id             1000 non-null   int64  \n",
            " 4   category_code           1000 non-null   object \n",
            " 5   brand                   1000 non-null   object \n",
            " 6   price                   1000 non-null   float64\n",
            " 7   user_id                 1000 non-null   int64  \n",
            " 8   Session_id              1000 non-null   object \n",
            " 9   Customer_id             1000 non-null   object \n",
            " 10  Location                1000 non-null   object \n",
            " 11  License_id              1000 non-null   int64  \n",
            " 12  Session_start_datetime  1000 non-null   object \n",
            " 13  Session_end_datetime    1000 non-null   object \n",
            " 14  duration                1000 non-null   float64\n",
            " 15  License_start_date      1000 non-null   object \n",
            " 16  License_end_date        1000 non-null   object \n",
            "dtypes: float64(2), int64(4), object(11)\n",
            "memory usage: 140.6+ KB\n",
            "None\n"
          ]
        }
      ],
      "source": [
        "print(dataframe.info())"
      ]
    },
    {
      "cell_type": "markdown",
      "metadata": {
        "id": "g8nPUIZVazSn"
      },
      "source": [
        "# Création du graphe\n"
      ]
    },
    {
      "cell_type": "code",
      "execution_count": 12,
      "metadata": {
        "id": "Jdik8i6bY1k0"
      },
      "outputs": [],
      "source": [
        "from tools.utils import IdentityEncoder, LocationEncoder, SessionIdEncoder, DateTimeEncoder\n",
        "import torch\n",
        "\n",
        "customer_encodings = {\n",
        "        \"Location\": LocationEncoder(dtype=torch.float),\n",
        "}\n",
        "product_encodings = {\n",
        "        \"price\": IdentityEncoder(dtype=torch.float),\n",
        "        \"category_id\": IdentityEncoder(dtype=torch.float),\n",
        "}\n",
        "session_encodings = {\n",
        "        \"Session_id\": SessionIdEncoder(dtype=torch.float),\n",
        "        \"Session_start_datetime\": DateTimeEncoder(dtype=torch.float),\n",
        "        \"Session_end_datetime\": DateTimeEncoder(dtype=torch.float),\n",
        "        \"user_id\": IdentityEncoder(dtype=torch.float),\n",
        "}\n",
        "licence_encodings = {\n",
        "        \"License_id\": IdentityEncoder(dtype=torch.float),\n",
        "        \"License_start_date\": DateTimeEncoder(dtype=torch.float),\n",
        "        \"License_end_date\": DateTimeEncoder(dtype=torch.float),\n",
        "}"
      ]
    },
    {
      "cell_type": "code",
      "execution_count": 13,
      "metadata": {
        "id": "idNrCU49W9I6"
      },
      "outputs": [],
      "source": [
        "from torch_geometric.data import HeteroData\n",
        "from tools.utils import load_edge_csv, load_node_csv\n",
        "\n",
        "def generate_graph(dataframe):\n",
        "    data = HeteroData()\n",
        "\n",
        "    # Loading nodes into graph\n",
        "    data['customer'].x, customer_mapping = load_node_csv(dataframe, \"Customer_id\",customer_encodings)\n",
        "    data['product'].x, product_mapping = load_node_csv(dataframe, \"product_id\", product_encodings)\n",
        "    _, user_mapping = load_node_csv(dataframe, \"user_id\")\n",
        "    data['user'].num_nodes = len(user_mapping)  # user has no features\n",
        "\n",
        "    # Loading edges into graph\n",
        "    data['customer', 'has', 'user'].edge_index, _ = load_edge_csv(\n",
        "        dataframe,\n",
        "        src_index_col='Customer_id',\n",
        "        src_mapping=customer_mapping,\n",
        "        dst_index_col='user_id',\n",
        "        dst_mapping=user_mapping,\n",
        "    )\n",
        "\n",
        "    data['product', 'license','customer'].edge_index, data[\n",
        "        'product', 'license','customer'].edge_attr = load_edge_csv(\n",
        "        dataframe,\n",
        "        src_index_col='product_id',\n",
        "        src_mapping=product_mapping,\n",
        "        dst_index_col='Customer_id',\n",
        "        dst_mapping=customer_mapping,\n",
        "        encoders=licence_encodings\n",
        "    )\n",
        "    data['user', 'opened_session', 'product'].edge_index, data[\n",
        "        'user', 'opened_session', 'product'].edge_attr = load_edge_csv(\n",
        "        dataframe,\n",
        "        src_index_col='user_id',\n",
        "        src_mapping=user_mapping,\n",
        "        dst_index_col='product_id',\n",
        "        dst_mapping=product_mapping,\n",
        "        encoders=session_encodings\n",
        "    )\n",
        "    return data"
      ]
    },
    {
      "cell_type": "code",
      "execution_count": 14,
      "metadata": {},
      "outputs": [
        {
          "name": "stdout",
          "output_type": "stream",
          "text": [
            "HeteroData(\n",
            "  \u001b[1mcustomer\u001b[0m={ x=[1000, 2] },\n",
            "  \u001b[1mproduct\u001b[0m={ x=[1000, 2] },\n",
            "  \u001b[1muser\u001b[0m={ num_nodes=581 },\n",
            "  \u001b[1m(customer, has, user)\u001b[0m={ edge_index=[2, 1000] },\n",
            "  \u001b[1m(product, license, customer)\u001b[0m={\n",
            "    edge_index=[2, 1000],\n",
            "    edge_attr=[1000, 3]\n",
            "  },\n",
            "  \u001b[1m(user, opened_session, product)\u001b[0m={\n",
            "    edge_index=[2, 1000],\n",
            "    edge_attr=[1000, 4]\n",
            "  }\n",
            ")\n"
          ]
        }
      ],
      "source": [
        "data = generate_graph(dataframe)\n",
        "print(data)"
      ]
    },
    {
      "cell_type": "code",
      "execution_count": 15,
      "metadata": {
        "colab": {
          "base_uri": "https://localhost:8080/"
        },
        "id": "5z5Mz_zQc1UR",
        "outputId": "02d9668e-bed7-4baf-feca-0666c33420b8"
      },
      "outputs": [
        {
          "data": {
            "text/plain": [
              "{'customer': 1000, 'product': 1000, 'user': 581}"
            ]
          },
          "execution_count": 15,
          "metadata": {},
          "output_type": "execute_result"
        }
      ],
      "source": [
        "data.num_nodes_dict"
      ]
    },
    {
      "cell_type": "markdown",
      "metadata": {
        "id": "x-BjK_9LcoMd"
      },
      "source": [
        "# Preprocessing du graphe\n"
      ]
    },
    {
      "cell_type": "code",
      "execution_count": 16,
      "metadata": {
        "id": "j_CWh7RqsKzF"
      },
      "outputs": [
        {
          "name": "stderr",
          "output_type": "stream",
          "text": [
            "/home/othmane/Documents/PFE/.venv/lib/python3.10/site-packages/torch/utils/data/dataloader.py:560: UserWarning: This DataLoader will create 3 worker processes in total. Our suggested max number of worker in current system is 1, which is smaller than what this DataLoader is going to create. Please be aware that excessive worker creation might get DataLoader running slow or even freeze, lower the worker number to avoid potential slowness/freeze if necessary.\n",
            "  warnings.warn(_create_warning_msg(\n"
          ]
        }
      ],
      "source": [
        "from torch_geometric.nn import MetaPath2Vec\n",
        "from torch_sparse import SparseTensor\n",
        "\n",
        "metapath = [\n",
        "    ('customer', 'has', 'user'),\n",
        "    ('user', 'opened_session', 'product'),\n",
        "    ('product', 'license','customer')  \n",
        "]\n",
        "\n",
        "device = 'cuda' if torch.cuda.is_available() else 'cpu'\n",
        "model = MetaPath2Vec(data.edge_index_dict, embedding_dim=2,\n",
        "                     metapath=metapath, walk_length=5, context_size=3,\n",
        "                     walks_per_node=3, num_negative_samples=1,\n",
        "                     sparse=True).to(device)\n",
        "\n",
        "loader = model.loader(batch_size=32, shuffle=True, num_workers=3)\n",
        "optimizer = torch.optim.SparseAdam(list(model.parameters()), lr=0.01)\n",
        "\n",
        "\n",
        "def train(epoch, log_steps=100, eval_steps=2000):\n",
        "    model.train()\n",
        "\n",
        "    total_loss = 0\n",
        "    for i, (pos_rw, neg_rw) in enumerate(loader):\n",
        "        optimizer.zero_grad()\n",
        "        loss = model.loss(pos_rw.to(device), neg_rw.to(device))\n",
        "        loss.backward()\n",
        "        optimizer.step()\n",
        "\n",
        "        total_loss += loss.item()\n",
        "        if (i + 1) % log_steps == 0:\n",
        "            print((f'Epoch: {epoch}, Step: {i + 1:05d}/{len(loader)}, '\n",
        "                   f'Loss: {total_loss / log_steps:.4f}'))\n",
        "            total_loss = 0\n",
        "\n",
        "        "
      ]
    },
    {
      "cell_type": "code",
      "execution_count": 17,
      "metadata": {
        "colab": {
          "base_uri": "https://localhost:8080/"
        },
        "id": "lrRzgpLhskW1",
        "outputId": "69635f47-68a7-460d-913c-6f706b186110"
      },
      "outputs": [],
      "source": [
        "for epoch in range(1, 10):\n",
        "  train(epoch)"
      ]
    },
    {
      "cell_type": "code",
      "execution_count": 18,
      "metadata": {
        "colab": {
          "base_uri": "https://localhost:8080/"
        },
        "id": "SPgIKPFmGR5D",
        "outputId": "36a9f73e-b319-41ed-be90-7113b7ca35ba"
      },
      "outputs": [
        {
          "name": "stdout",
          "output_type": "stream",
          "text": [
            "HeteroData(\n",
            "  \u001b[1mcustomer\u001b[0m={ x=[1000, 2] },\n",
            "  \u001b[1mproduct\u001b[0m={ x=[1000, 2] },\n",
            "  \u001b[1muser\u001b[0m={\n",
            "    num_nodes=581,\n",
            "    x=[581, 2]\n",
            "  },\n",
            "  \u001b[1m(customer, has, user)\u001b[0m={ edge_index=[2, 1000] },\n",
            "  \u001b[1m(product, license, customer)\u001b[0m={\n",
            "    edge_index=[2, 1000],\n",
            "    edge_attr=[1000, 3]\n",
            "  },\n",
            "  \u001b[1m(user, opened_session, product)\u001b[0m={\n",
            "    edge_index=[2, 1000],\n",
            "    edge_attr=[1000, 4]\n",
            "  }\n",
            ")\n"
          ]
        }
      ],
      "source": [
        "data['user'].x=model('user')\n",
        "\n",
        "print(data)"
      ]
    },
    {
      "cell_type": "markdown",
      "metadata": {
        "id": "aLoWRmsKd1n9"
      },
      "source": [
        "Saving the graph for further testing"
      ]
    },
    {
      "cell_type": "code",
      "execution_count": 19,
      "metadata": {
        "id": "QogOqiBkpXVy"
      },
      "outputs": [],
      "source": [
        "torch.save(data, \"graph.pt\")"
      ]
    },
    {
      "cell_type": "markdown",
      "metadata": {
        "id": "x0nDKsqU8Aa3"
      },
      "source": [
        "# DOMINANT\n",
        "\n",
        "![The proposed framework](framework.png)"
      ]
    },
    {
      "cell_type": "code",
      "execution_count": 20,
      "metadata": {
        "id": "MK6moalA_sYe"
      },
      "outputs": [],
      "source": [
        "device = 'cuda' if torch.cuda.is_available() else 'cpu'"
      ]
    },
    {
      "cell_type": "markdown",
      "metadata": {
        "id": "vjXgVHoe8Gh3"
      },
      "source": [
        "On rajoute des transformations à notre graphe, propre à torch_geometric, pour que les performances d'apprentissage de nos réseaux de neurones soient plus hautes."
      ]
    },
    {
      "cell_type": "code",
      "execution_count": 21,
      "metadata": {
        "id": "GexunUPv8UAU"
      },
      "outputs": [],
      "source": [
        "import torch_geometric.transforms as T\n",
        "\n",
        "data = T.ToUndirected()(data)\n",
        "data = T.AddSelfLoops()(data)\n",
        "data = T.NormalizeFeatures()(data)\n",
        "data = T.ToDevice(device)(data)"
      ]
    },
    {
      "cell_type": "markdown",
      "metadata": {
        "id": "PN-7L2ROBotR"
      },
      "source": [
        "We train our model now"
      ]
    },
    {
      "cell_type": "code",
      "execution_count": 22,
      "metadata": {
        "id": "qmhdQN0WBij5"
      },
      "outputs": [
        {
          "name": "stdout",
          "output_type": "stream",
          "text": [
            "Epoch: 0000 train_loss= 3.90742 train/feat_loss= 0.78236\n"
          ]
        }
      ],
      "source": [
        "from torch_geometric.loader import NeighborLoader\n",
        "from tools.model import Dominant, loss_func_train, loss_func_test\n",
        "from tools.utils import dense_adj\n",
        "\n",
        "\n",
        "model = Dominant(feat_size=2, hidden_size=64, num_nodes_dict = data.num_nodes_dict, dropout=0.3, metadata=data.metadata()).to(device)\n",
        "optimizer = torch.optim.Adam(model.parameters(), lr = 5e-3)\n",
        "train_loader = NeighborLoader(\n",
        "    data,\n",
        "    # Sample 15 neighbors for each node and each edge type for 2 iterations:\n",
        "    num_neighbors=[15] * 2,\n",
        "    # Use a batch size of 128 for sampling training nodes of type \"paper\":\n",
        "    batch_size=32,\n",
        "    input_nodes=('customer'),\n",
        ")\n",
        "\n",
        "epochs = 1\n",
        "X = data.x_dict\n",
        "adj = dense_adj(data)\n",
        "\n",
        "for epoch in range(epochs):\n",
        "        model.train()\n",
        "        optimizer.zero_grad()\n",
        "        A_hat, X_hat = model(data.x_dict, data.edge_index_dict)\n",
        "        loss, struct_loss, feat_loss = loss_func_train(X, X_hat, adj, A_hat)\n",
        "        l = torch.mean(loss)\n",
        "        l.backward(retain_graph=True)\n",
        "        optimizer.step()        \n",
        "        print(\"Epoch:\", '%04d' % (epoch), \"train_loss=\", \"{:.5f}\".format(l.item()),\"train/feat_loss=\", \"{:.5f}\".format(feat_loss.item()))\n",
        "\n",
        "        # if epoch == epochs - 1:\n",
        "        #     model.eval()\n",
        "        #     A_hat, X_hat = model(data.x_dict, data.edge_index_dict)\n",
        "        #     loss, struct_loss, feat_loss = loss_func(X['customer'], X_hat['customer'])\n",
        "        #     score = loss.detach().cpu().numpy()\n",
        "        #     print(\"Score = \", score)"
      ]
    },
    {
      "cell_type": "code",
      "execution_count": 23,
      "metadata": {
        "colab": {
          "base_uri": "https://localhost:8080/"
        },
        "id": "vD1uCwmTEL3v",
        "outputId": "1fb72848-5039-4c14-a461-b0d26dc1946f"
      },
      "outputs": [
        {
          "name": "stdout",
          "output_type": "stream",
          "text": [
            "Score =  [0.3466039  0.36979955 0.35565776 1.0376095  0.46977064 0.4042505\n",
            " 0.02957283 0.47808746 0.61260444 1.0297829  0.29942036 0.7306801\n",
            " 0.50557655 0.42636487 0.3126522  0.55057305 0.71501935 0.34450194\n",
            " 0.553416   0.39339715 0.31073922 1.1259872  0.87354136 0.3704148\n",
            " 0.40339255 0.2344243  0.41866243 0.5216669  0.4814494  0.4722017\n",
            " 0.13746282 0.3530703  0.4871107  0.27282768 0.14075378 0.52854586\n",
            " 0.56457484 0.58345157 0.46997195 0.45006967 0.36857238 0.1074945\n",
            " 0.74201804 0.05965024 1.039911   0.69264257 0.5719747  0.5722137\n",
            " 0.51428074 0.676977   0.7281617  1.502005   0.5912426  0.39534172\n",
            " 0.4941119  0.7366421  0.87405556 0.60058707 0.532629   1.1119226\n",
            " 0.392795   0.5455446  0.37542716 0.6568053  0.7025057  0.48960656\n",
            " 0.61571306 0.30252913 0.5640737  0.5223523  1.2312299  0.6540005\n",
            " 0.5761598  0.15854575 0.7612425  0.48739624 0.54315764 0.6044121\n",
            " 0.6051091  1.0510832  0.5194969  0.75504994 0.7624291  0.37166932\n",
            " 0.41830453 0.7977085  0.8663679  0.5544856  0.5716293  0.51213306\n",
            " 0.7214148  0.7044203  0.6815487  0.58891445 0.12033008 0.35923314\n",
            " 0.59671617 1.2810471  0.56419677 1.1696308  0.8122666  0.27617356\n",
            " 0.40607786 0.5577498  0.6357098  0.82955176 0.91877663 0.55496514\n",
            " 0.53686225 0.44382033 0.7318464  0.6951082  0.6760173  0.6301284\n",
            " 0.61255336 0.6248997  0.7066402  0.84879786 0.6365754  0.45295876\n",
            " 0.39368522 0.12309793 0.65462935 1.4200294  0.89517087 0.5237476\n",
            " 0.32493538 1.0622247  0.9866617  0.5476665  0.41933703 0.7307159\n",
            " 1.2132239  0.5175525  0.76797086 0.835099   0.72534543 0.862486\n",
            " 1.1479315  0.77513903 0.27106908 0.5640069  1.1443017  0.7936775\n",
            " 0.47415602 0.7104423  0.49567398 0.7292055  0.17236924 0.59313345\n",
            " 0.7783656  0.6129035  1.0193788  0.89119226 0.46028793 0.7095508\n",
            " 1.1409371  0.7106056  0.54404724 0.8702065  0.5804027  0.5463575\n",
            " 0.55250674 0.8078809  0.71368814 0.41894394 0.09461518 0.9318725\n",
            " 0.7018449  0.56392133 1.0861872  0.44507337 0.6422838  0.562245\n",
            " 1.0460144  1.3977398  0.3721493  0.6783588  0.63921916 0.36367977\n",
            " 0.7365213  0.40401825 0.29257736 0.76182246 0.49799368 0.790368\n",
            " 0.7819413  1.117094   0.52643657 0.13672693 0.55147606 1.1535593\n",
            " 0.8292441  0.5129858  0.64486545 0.51655644 1.081998   1.0615106\n",
            " 0.807823   0.7452585  0.6545814  0.71055543 0.24630742 0.8933798\n",
            " 0.69281137 0.70117664 1.2271817  0.58453774 0.87133175 0.90994185\n",
            " 0.5882576  0.5211573  1.0969577  0.82689786 1.0139841  0.46607235\n",
            " 0.8513288  0.34356773 1.1218097  0.59934795 0.30885625 0.93835485\n",
            " 0.7287703  0.5548943  0.7654988  0.492789   0.4048644  0.46184298\n",
            " 0.75097984 1.3826638  0.65054655 0.57474965 1.0304579  0.31403783\n",
            " 0.5702054  1.3429142  0.5844284  0.41684514 0.6020738  0.7251372\n",
            " 0.867271   0.62211156 0.4342571  1.20803    0.43433216 0.46135598\n",
            " 0.77131003 0.89703834 0.9869957  0.62243223 0.54055107 0.6726294\n",
            " 0.9417935  0.2778999  1.0638556  0.8707499  0.8932156  0.23017097\n",
            " 0.4388293  0.38481125 0.8960819  0.803897   0.75503874 0.5900207\n",
            " 0.69232017 0.9542042  0.9044117  0.43532747 0.6974069  0.8233101\n",
            " 0.7434106  0.74604297 0.4380808  1.0500755  0.5945842  0.69334036\n",
            " 0.48626736 0.69935167 0.9287821  0.7404976  0.8671576  0.58825123\n",
            " 0.5612075  0.6464108  1.0290971  0.55548054 0.501032   0.5556773\n",
            " 1.114808   1.1358929  0.78626597 0.27466118 0.7341866  0.60426724\n",
            " 0.5537146  1.2867239  0.7642267  0.5661543  0.70061797 0.7615393\n",
            " 0.7800755  0.6141948  1.0481569  1.1277152  0.6425642  0.5463275\n",
            " 0.59606665 0.8240248  0.5632262  0.82381386 0.1234155  1.2323431\n",
            " 0.7089515  0.920226   0.38582578 0.26264092 0.6896798  0.74036556\n",
            " 0.68781525 0.8712481  1.1036577  0.49556282 0.48365116 0.24539158\n",
            " 1.4253311  0.5338053  0.5019507  0.66572607 0.94517106 0.2319737\n",
            " 0.9561471  0.6393962  0.6904335  0.59034795 0.45175922 0.43707964\n",
            " 0.5967751  0.44955376 1.2641999  0.42059943 0.63251156 0.06713263\n",
            " 1.1835632  0.34435835 0.7094157  0.46530762 0.68060935 1.2899497\n",
            " 0.12248391 0.749736   0.71171594 0.60873    0.9143665  0.5072748\n",
            " 0.926425   0.23253988 0.31129348 0.5516788  0.6427701  0.7684577\n",
            " 0.6304671  0.80113906 0.42247814 0.4107863  0.44238144 0.5633319\n",
            " 0.49812695 0.36508092 0.8943484  0.42240676 0.64694464 0.38450137\n",
            " 0.9284804  0.7422365  0.8969143  0.8309874  1.3222286  0.5709326\n",
            " 0.5477081  0.51773816 0.6156668  0.13719927 0.59498686 0.81785464\n",
            " 0.6856639  0.5414389  0.40275264 0.90645814 0.748999   0.817181\n",
            " 0.593284   0.6208322  0.71072245 0.41027316 0.6848128  0.950916\n",
            " 0.71059513 0.39646026 0.71311074 1.0593442  1.0113181  0.47989297\n",
            " 0.9429509  0.55380166 0.46116474 0.38583103 0.47706398 0.35198066\n",
            " 1.0516671  0.57557577 0.28006825 1.4790937  0.35296276 0.58883405\n",
            " 0.3016922  0.6359562  0.6882777  0.7216077  0.88972074 0.5423826\n",
            " 0.5909543  0.62901324 0.58007073 0.7058828  0.590447   0.34560066\n",
            " 0.24577935 0.31487888 0.83209693 0.37166074 0.62119174 1.1884799\n",
            " 0.77216005 1.2731019  0.56779015 1.1199133  0.53475046 0.92375964\n",
            " 0.26223332 0.6368969  0.34501892 0.97517604 0.50520825 0.5966852\n",
            " 0.538634   0.42052242 0.5154109  0.3943014  1.107136   0.54996884\n",
            " 0.6439253  0.5877862  1.0283933  0.5990713  0.5267905  0.34130242\n",
            " 0.12706998 0.6140828  0.71091974 0.13707893 0.59102    0.3827781\n",
            " 0.37588647 0.52298075 0.5967998  0.31641403 0.44547555 0.48578697\n",
            " 0.40027925 0.72439176 0.5072639  0.5277404  0.08805379 0.19685653\n",
            " 0.48702136 0.45764732 0.5152622  0.510686   0.7510142  0.19799343\n",
            " 0.32672185 0.57752067 0.13237602 0.5252453  0.4321996  0.28991556\n",
            " 0.21593626 0.4465176  0.13351871 0.27872807 0.27050596 0.52970606\n",
            " 0.37105122 0.74932647 0.82204103 0.45777845 0.2578855  0.45698658\n",
            " 0.16474544 0.524304   0.45407626 0.45033887 0.58921784 0.50095123\n",
            " 0.33948284 0.5771915  0.45891005 0.5514431  0.3527726  0.47532612\n",
            " 0.59505713 0.4212095  0.32783905 0.49590233 0.627593   0.42706642\n",
            " 0.43405184 0.51156276 0.43746075 0.35070345 0.53061736 0.37477094\n",
            " 0.47906214 0.57859826 0.6049673  0.49328    0.5025573  0.53884995\n",
            " 0.6107674  0.24182379 0.46763995 0.40650657 0.6202284  0.50397485\n",
            " 0.5009945  0.56949514 0.48438463 0.47205365 0.48324624 0.47870022\n",
            " 0.5049792  0.35549307 0.44809026 0.5308742  0.55607337 0.43322852\n",
            " 0.46624672 0.44968724 0.58311373 0.46095407 0.41995806 0.27052283\n",
            " 0.45568165 0.49676764 0.5049295  0.5022164  0.45954898 0.23128577\n",
            " 0.50390154 0.61541235 0.4110845  0.50839704 0.40537474 0.5445143\n",
            " 0.6285395  0.51037323 0.46814337 0.4665737  0.5869123  0.4647684\n",
            " 0.26602453 0.44571263 0.47064734 0.40685558 0.6277544  0.24369176\n",
            " 0.42402005 0.4493336  0.64152306 0.47548565 0.5032101  0.45113847\n",
            " 0.61586386 0.43128788 0.39630425 0.45605895 0.45541158 0.6563149\n",
            " 0.5744412  0.38429156 0.45766863 0.33251533 0.333365   0.33820537\n",
            " 0.4725562  0.41130665 0.60307366 0.5476481  0.4712199  0.49604893\n",
            " 0.4484692  0.36872995 0.42834023 0.46910468 0.5693602  0.40938267\n",
            " 0.4514709  0.34133184 0.6072912  0.46323025 0.4206142  0.5371265\n",
            " 0.50881255 0.41031107 0.57789546 0.3792413  0.63260424 0.35269922\n",
            " 0.508589   0.44372714 0.34482998 0.28800276 0.54063404 0.6459909\n",
            " 0.51797616 0.57869625 0.44774562 0.4553481  0.53568333 0.52756983\n",
            " 0.4452635  0.44602346 0.45522705 0.34166554 0.366343   0.34710988\n",
            " 0.33694378 0.511153   0.4111503  0.5452088  0.5325561  0.5263658\n",
            " 0.40994805 0.46895504 0.57720304 0.45265165 0.30198184 0.46959686\n",
            " 0.5478405  0.41968235 0.44439906 0.55287623 0.57778996 0.33134753\n",
            " 0.43077064 0.48375252 0.5079328  0.48162082 0.43749177 0.42482626\n",
            " 0.6160579  0.5074232  0.4748003  0.4681627  0.5295816  0.65579253\n",
            " 0.5769008  0.48297903 0.5221385  0.5515124  0.49503914 0.55438495\n",
            " 0.5389426  0.45555413 0.47422397 0.4618795  0.48670745 0.41446912\n",
            " 0.58325434 0.5154435  0.47979528 0.27560723 0.43226826 0.48695028\n",
            " 0.5693759  0.45373166 0.43071574 0.3824244  0.41770837 0.57496655\n",
            " 0.4586451  0.56727844 0.5539341  0.5035726  0.44349986 0.44514373\n",
            " 0.5697099  0.41463548 0.478601   0.6502279  0.39903826 0.45230854\n",
            " 0.5322823  0.51575977 0.44428957 0.62851185 0.5023245  0.46745896\n",
            " 0.43254125 0.5328717  0.4756687  0.45486763 0.50719213 0.41922054\n",
            " 0.49345177 0.46678177 0.50879323 0.6830834  0.5595516  0.56552476\n",
            " 0.5911926  0.54784024 0.4278139  0.5192301  0.32059675 0.4562676\n",
            " 0.42709693 0.17687395 0.58939403 0.5823506  0.45680246 0.5919839\n",
            " 0.31893232 0.62489647 0.7094159  0.54761344 0.37357917 0.5595869\n",
            " 0.5390599  0.5238165  0.57116485 0.4199577  0.46622086 0.47488928\n",
            " 0.4864142  0.4467883  0.46616423 0.42561132 0.42860243 0.46528986\n",
            " 0.6475622  0.28250578 0.4585245  0.30445915 0.39133465 0.56547517\n",
            " 0.5386059  0.39700422 0.44186953 0.46233895 0.51080257 0.42621288\n",
            " 0.48433226 0.52138525 0.553592   0.558411   0.55011356 0.40229136\n",
            " 0.55735654 0.69762194 0.43431383 0.42673984 0.6861801  0.61147475\n",
            " 0.5664697  0.38402298 0.3767493  0.49717724 0.49313506 0.4249091\n",
            " 0.4515737  0.516052   0.51316243 0.41045702 0.45151934 0.47192007\n",
            " 0.44924894 0.460149   0.57524997 0.35896614 0.32187432 0.5106205\n",
            " 0.30744293 0.4735791  0.45357823 0.2520881  0.45645326 0.46891543\n",
            " 0.49613062 0.47104228 0.565109   0.54614246 0.5322414  0.46074286\n",
            " 0.45107755 0.5662906  0.37730467 0.5434357  0.5537892  0.5227578\n",
            " 0.46547806 0.480595   0.523476   0.53667134 0.35154915 0.33353782\n",
            " 0.4653254  0.37103975 0.578725   0.4824939  0.5116234  0.45856276\n",
            " 0.6443896  0.52552193 0.52198994 0.35843596 0.41204533 0.59215826\n",
            " 0.48013005 0.52675295 0.54515415 0.59661996 0.47790125 0.5991872\n",
            " 0.47842112 0.36763301 0.44865578 0.48760095 0.28020114 0.5465274\n",
            " 0.62222785 0.48419654 0.5609947  0.4721161  0.5854197  0.5131026\n",
            " 0.6135141  0.50753456 0.5237421  0.4946121  0.43660605 0.5528371\n",
            " 0.52061564 0.561202   0.59467936 0.46672192 0.5442247  0.63913465\n",
            " 0.4005927  0.47809404 0.47419456 0.52092284 0.3988988  0.41894713\n",
            " 0.28573856 0.5533018  0.45556474 0.56069005 0.6007177  0.4560845\n",
            " 0.4547922  0.4483294  0.3809923  0.46018192 0.46494147 0.3603681\n",
            " 0.5283746  0.6059054  0.41094813 0.4029102  0.4859636  0.5603229\n",
            " 0.646419   0.47471863 0.45810625 0.34121335 0.470441   0.4082589\n",
            " 0.55118906 0.3933538  0.33439273 0.44111702 0.46151927 0.4842815\n",
            " 0.53086627 0.49925753 0.5210368  0.48337334 0.4255038  0.49473605\n",
            " 0.46275318 0.51552373 0.5246062  0.39150834 0.45878807 0.6058985\n",
            " 0.5785475  0.524516   0.635959   0.556779   0.45070946 0.36723924\n",
            " 0.38687512 0.49911454 0.3238833  0.4565435  0.4091572  0.46688494\n",
            " 0.4712157  0.45822334 0.44824585 0.3607775  0.44904783 0.5543731\n",
            " 0.5045363  0.4762857  0.47522002 0.6433739  0.46087584 0.45183533\n",
            " 0.5718706  0.4621325  0.62598556 0.61373436 0.5751507  0.58616734\n",
            " 0.43515527 0.40612224 0.65768    0.44983485 0.50014836 0.457678\n",
            " 0.4432586  0.47604725 0.591392   0.46224445 0.60520065 0.44996083\n",
            " 0.50478727 0.42476425 0.36288545 0.5358829  0.57866096 0.41213894\n",
            " 0.47355577 0.6072666  0.45571995 0.61209947 0.56058115 0.36702073\n",
            " 0.36297718 0.44873598 0.5222365  0.38503587 0.63656896 0.40326035\n",
            " 0.43297878 0.5506852  0.4654005  0.34117422 0.50207406 0.4469044\n",
            " 0.46369788 0.32496467 0.45382348 0.48299325 0.5917359  0.5618328\n",
            " 0.40006402 0.5128551  0.55756813 0.5756177  0.32592335 0.6011299\n",
            " 0.5725417  0.37965503 0.49879688 0.44154507 0.49162975 0.44456133\n",
            " 0.6209319  0.47126547 0.6063364  0.59169585 0.45898193 0.4121715\n",
            " 0.7263133  0.46487534 0.6185836  0.42860794]\n"
          ]
        }
      ],
      "source": [
        "model.eval()\n",
        "A_hat, X_hat = model(data.x_dict, data.edge_index_dict)\n",
        "loss, struct_loss, feat_loss = loss_func_test(X['customer'], X_hat['customer'])\n",
        "score = loss.detach().cpu().numpy()\n",
        "print(\"Score = \", score)"
      ]
    },
    {
      "cell_type": "code",
      "execution_count": 24,
      "metadata": {
        "colab": {
          "base_uri": "https://localhost:8080/"
        },
        "id": "0WuSyZpsE2HH",
        "outputId": "52889eef-3ad9-4612-9864-63d1f0062811"
      },
      "outputs": [
        {
          "data": {
            "text/plain": [
              "1000"
            ]
          },
          "execution_count": 24,
          "metadata": {},
          "output_type": "execute_result"
        }
      ],
      "source": [
        "len(score)"
      ]
    },
    {
      "cell_type": "code",
      "execution_count": null,
      "metadata": {
        "id": "jBx1WP6NE_6z"
      },
      "outputs": [],
      "source": []
    }
  ],
  "metadata": {
    "colab": {
      "machine_shape": "hm",
      "name": "Dominant.ipynb",
      "provenance": []
    },
    "kernelspec": {
      "display_name": "Python 3",
      "name": "python3"
    },
    "language_info": {
      "codemirror_mode": {
        "name": "ipython",
        "version": 3
      },
      "file_extension": ".py",
      "mimetype": "text/x-python",
      "name": "python",
      "nbconvert_exporter": "python",
      "pygments_lexer": "ipython3",
      "version": "3.10.9"
    }
  },
  "nbformat": 4,
  "nbformat_minor": 0
}
