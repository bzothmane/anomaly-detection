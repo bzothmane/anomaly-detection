{
 "cells": [
  {
   "cell_type": "code",
   "execution_count": 2,
   "id": "f18c674b",
   "metadata": {},
   "outputs": [],
   "source": [
    "import pandas as pd"
   ]
  },
  {
   "cell_type": "code",
   "execution_count": 17,
   "id": "677bf187",
   "metadata": {},
   "outputs": [
    {
     "name": "stdout",
     "output_type": "stream",
     "text": [
      "(3533286, 9)\n",
      "(4102283, 9)\n",
      "(4635837, 9)\n",
      "(4264752, 9)\n",
      "(4156682, 9)\n"
     ]
    }
   ],
   "source": [
    "dec= pd.read_csv(\"2019-Dec.csv\",index_col=None)\n",
    "print(dec.shape)\n",
    "oc=pd.read_csv(\"2019-Oct.csv\",index_col=None)\n",
    "print(oc.shape)\n",
    "nv=pd.read_csv(\"2019-Nov.csv\",index_col=None)\n",
    "print(nv.shape)\n",
    "jan=pd.read_csv(\"2020-Jan.csv\",index_col=None)\n",
    "print(jan.shape)\n",
    "feb=pd.read_csv(\"2020-Feb.csv\",index_col=None)\n",
    "print(feb.shape)"
   ]
  },
  {
   "cell_type": "code",
   "execution_count": 49,
   "id": "f5f7fa41",
   "metadata": {},
   "outputs": [
    {
     "data": {
      "text/plain": [
       "(3533286, 9)"
      ]
     },
     "execution_count": 49,
     "metadata": {},
     "output_type": "execute_result"
    }
   ],
   "source": [
    "data = pd.concat([oc,nv,dec,jan,feb]).reset_index(drop=True)\n",
    "data=data.rename(columns={\"user_session\":\"Session_id\",})\n",
    "data.shape"
   ]
  },
  {
   "cell_type": "code",
   "execution_count": 50,
   "id": "fc879c81",
   "metadata": {},
   "outputs": [],
   "source": [
    "data['col1']=1"
   ]
  },
  {
   "cell_type": "code",
   "execution_count": 51,
   "id": "01a1ed17",
   "metadata": {},
   "outputs": [],
   "source": [
    "df=data[['user_id','col1']].groupby('user_id').count().reset_index().sort_values(by='col1').rename(columns={'col1':'occ_user'})"
   ]
  },
  {
   "cell_type": "code",
   "execution_count": 52,
   "id": "537f8e19",
   "metadata": {},
   "outputs": [],
   "source": [
    "#df"
   ]
  },
  {
   "cell_type": "code",
   "execution_count": 53,
   "id": "555ebb39",
   "metadata": {},
   "outputs": [],
   "source": [
    "dic={}\n",
    "for occ in list(df['occ_user'].unique()):\n",
    "    dic[occ]= len(list(df[df['occ_user']==occ]['user_id']))"
   ]
  },
  {
   "cell_type": "code",
   "execution_count": 54,
   "id": "c360755a",
   "metadata": {},
   "outputs": [],
   "source": [
    "import random\n",
    "\n",
    "def chunks(l, n):\n",
    "    \"\"\"Yield successive n-sized chunks from l.\"\"\"\n",
    "    for i in range(0, len(l), n):\n",
    "        yield l[i:i + n]"
   ]
  },
  {
   "cell_type": "code",
   "execution_count": 55,
   "id": "ec94970f",
   "metadata": {},
   "outputs": [],
   "source": [
    "Partitions=[]"
   ]
  },
  {
   "cell_type": "code",
   "execution_count": 56,
   "id": "48a23660",
   "metadata": {},
   "outputs": [],
   "source": [
    "#user_id avec une occurrence > 1000 : un consumer_id a un seul compte\n",
    "Partitions=list(df[df['occ_user']>1000]['user_id'].apply(lambda x : [x]))"
   ]
  },
  {
   "cell_type": "code",
   "execution_count": 57,
   "id": "410be0be",
   "metadata": {},
   "outputs": [
    {
     "name": "stdout",
     "output_type": "stream",
     "text": [
      "3144\n"
     ]
    }
   ],
   "source": [
    "users_with_occ_moy = list(df.query(f'occ_user > 100 and occ_user < 1000')['user_id'])\n",
    "Partitions+=list(chunks(users_with_occ_moy,2))\n",
    "print(len(Partitions))"
   ]
  },
  {
   "cell_type": "code",
   "execution_count": 58,
   "id": "ce17a73c",
   "metadata": {},
   "outputs": [
    {
     "name": "stdout",
     "output_type": "stream",
     "text": [
      "45478\n"
     ]
    }
   ],
   "source": [
    "users_with_occ_f = list(df.query(f'occ_user > 2 and occ_user < 100')['user_id'])\n",
    "Partitions+=list(chunks(users_with_occ_f,3))\n",
    "print(len(Partitions))"
   ]
  },
  {
   "cell_type": "code",
   "execution_count": 59,
   "id": "51b30fc0",
   "metadata": {
    "scrolled": true
   },
   "outputs": [
    {
     "data": {
      "text/plain": [
       "56592"
      ]
     },
     "execution_count": 59,
     "metadata": {},
     "output_type": "execute_result"
    }
   ],
   "source": [
    "import random\n",
    "from random import randrange\n",
    "import numpy\n",
    "users_with_occ_unitaire = list(df.query(f'occ_user == 1')['user_id'])\n",
    "i=0\n",
    "while i==0  or i< 200:\n",
    "    i=randrange(500)\n",
    "\n",
    "for el in list(chunks(users_with_occ_unitaire,i)):\n",
    "    d=0\n",
    "    while d<=0 or d>i:\n",
    "        d=int(random.gauss(10,50))\n",
    "\n",
    "    Partitions+=list(chunks(el,d))\n",
    "len(Partitions)\n"
   ]
  },
  {
   "cell_type": "code",
   "execution_count": 60,
   "id": "dcf2b478",
   "metadata": {},
   "outputs": [],
   "source": [
    "consumers={}\n",
    "for el in Partitions:\n",
    "    consumer = str(el[0]) +'_'+str(random.getrandbits(20))\n",
    "    for elm in el:\n",
    "        consumers[elm] = consumer\n",
    "\n",
    "    "
   ]
  },
  {
   "cell_type": "code",
   "execution_count": 61,
   "id": "d2cfe04f",
   "metadata": {},
   "outputs": [],
   "source": [
    "data['Customer_id']= data['user_id'].map(consumers)"
   ]
  },
  {
   "cell_type": "code",
   "execution_count": 62,
   "id": "61640ea8",
   "metadata": {},
   "outputs": [],
   "source": [
    "nb_user_per_cos= data[['Customer_id','user_id']].groupby('Customer_id').nunique().reset_index().rename(columns={\"user_id\":'nb_user_per_cos'})\n",
    "nb_cos_per_nb_user= nb_user_per_cos.groupby('nb_user_per_cos').nunique().reset_index().rename(columns={\"Customer_id\":'nb_cos_per_nb_user'})"
   ]
  },
  {
   "cell_type": "code",
   "execution_count": 63,
   "id": "57782e60",
   "metadata": {},
   "outputs": [
    {
     "data": {
      "text/html": [
       "<div>\n",
       "<style scoped>\n",
       "    .dataframe tbody tr th:only-of-type {\n",
       "        vertical-align: middle;\n",
       "    }\n",
       "\n",
       "    .dataframe tbody tr th {\n",
       "        vertical-align: top;\n",
       "    }\n",
       "\n",
       "    .dataframe thead th {\n",
       "        text-align: right;\n",
       "    }\n",
       "</style>\n",
       "<table border=\"1\" class=\"dataframe\">\n",
       "  <thead>\n",
       "    <tr style=\"text-align: right;\">\n",
       "      <th></th>\n",
       "      <th>nb_user_per_cos</th>\n",
       "      <th>nb_cos_per_nb_user</th>\n",
       "    </tr>\n",
       "  </thead>\n",
       "  <tbody>\n",
       "    <tr>\n",
       "      <th>0</th>\n",
       "      <td>1</td>\n",
       "      <td>2007</td>\n",
       "    </tr>\n",
       "    <tr>\n",
       "      <th>1</th>\n",
       "      <td>2</td>\n",
       "      <td>3928</td>\n",
       "    </tr>\n",
       "    <tr>\n",
       "      <th>2</th>\n",
       "      <td>3</td>\n",
       "      <td>43089</td>\n",
       "    </tr>\n",
       "    <tr>\n",
       "      <th>3</th>\n",
       "      <td>4</td>\n",
       "      <td>468</td>\n",
       "    </tr>\n",
       "    <tr>\n",
       "      <th>4</th>\n",
       "      <td>5</td>\n",
       "      <td>656</td>\n",
       "    </tr>\n",
       "    <tr>\n",
       "      <th>...</th>\n",
       "      <td>...</td>\n",
       "      <td>...</td>\n",
       "    </tr>\n",
       "    <tr>\n",
       "      <th>119</th>\n",
       "      <td>151</td>\n",
       "      <td>3</td>\n",
       "    </tr>\n",
       "    <tr>\n",
       "      <th>120</th>\n",
       "      <td>153</td>\n",
       "      <td>1</td>\n",
       "    </tr>\n",
       "    <tr>\n",
       "      <th>121</th>\n",
       "      <td>160</td>\n",
       "      <td>2</td>\n",
       "    </tr>\n",
       "    <tr>\n",
       "      <th>122</th>\n",
       "      <td>171</td>\n",
       "      <td>1</td>\n",
       "    </tr>\n",
       "    <tr>\n",
       "      <th>123</th>\n",
       "      <td>173</td>\n",
       "      <td>1</td>\n",
       "    </tr>\n",
       "  </tbody>\n",
       "</table>\n",
       "<p>124 rows × 2 columns</p>\n",
       "</div>"
      ],
      "text/plain": [
       "     nb_user_per_cos  nb_cos_per_nb_user\n",
       "0                  1                2007\n",
       "1                  2                3928\n",
       "2                  3               43089\n",
       "3                  4                 468\n",
       "4                  5                 656\n",
       "..               ...                 ...\n",
       "119              151                   3\n",
       "120              153                   1\n",
       "121              160                   2\n",
       "122              171                   1\n",
       "123              173                   1\n",
       "\n",
       "[124 rows x 2 columns]"
      ]
     },
     "execution_count": 63,
     "metadata": {},
     "output_type": "execute_result"
    }
   ],
   "source": [
    "nb_cos_per_nb_user"
   ]
  },
  {
   "cell_type": "code",
   "execution_count": 64,
   "id": "8cdef4d5",
   "metadata": {},
   "outputs": [
    {
     "data": {
      "image/png": "[encoded data removed]",
      "text/plain": [
       "<Figure size 1080x576 with 1 Axes>"
      ]
     },
     "metadata": {
      "needs_background": "light"
     },
     "output_type": "display_data"
    }
   ],
   "source": [
    "import seaborn as sns\n",
    "g = sns.displot(data=data[['Customer_id','user_id']].groupby('Customer_id').nunique().reset_index().rename(columns={\"user_id\":\"nb_user_ids\"}), x=\"nb_user_ids\", multiple=\"stack\")\n",
    "\n",
    "g.fig.set_size_inches(15,8)"
   ]
  },
  {
   "cell_type": "code",
   "execution_count": 65,
   "id": "f83a7e85",
   "metadata": {},
   "outputs": [],
   "source": [
    "#data[data['Consumer_id']=='510623624_381213']"
   ]
  },
  {
   "cell_type": "code",
   "execution_count": 66,
   "id": "74637413",
   "metadata": {},
   "outputs": [
    {
     "data": {
      "text/html": [
       "<div>\n",
       "<style scoped>\n",
       "    .dataframe tbody tr th:only-of-type {\n",
       "        vertical-align: middle;\n",
       "    }\n",
       "\n",
       "    .dataframe tbody tr th {\n",
       "        vertical-align: top;\n",
       "    }\n",
       "\n",
       "    .dataframe thead th {\n",
       "        text-align: right;\n",
       "    }\n",
       "</style>\n",
       "<table border=\"1\" class=\"dataframe\">\n",
       "  <thead>\n",
       "    <tr style=\"text-align: right;\">\n",
       "      <th></th>\n",
       "      <th>nb_sessions_per_Costmer</th>\n",
       "      <th>nb_constumer</th>\n",
       "    </tr>\n",
       "  </thead>\n",
       "  <tbody>\n",
       "    <tr>\n",
       "      <th>0</th>\n",
       "      <td>1</td>\n",
       "      <td>1957</td>\n",
       "    </tr>\n",
       "    <tr>\n",
       "      <th>1</th>\n",
       "      <td>2</td>\n",
       "      <td>833</td>\n",
       "    </tr>\n",
       "    <tr>\n",
       "      <th>2</th>\n",
       "      <td>3</td>\n",
       "      <td>756</td>\n",
       "    </tr>\n",
       "    <tr>\n",
       "      <th>3</th>\n",
       "      <td>4</td>\n",
       "      <td>470</td>\n",
       "    </tr>\n",
       "    <tr>\n",
       "      <th>4</th>\n",
       "      <td>5</td>\n",
       "      <td>655</td>\n",
       "    </tr>\n",
       "    <tr>\n",
       "      <th>...</th>\n",
       "      <td>...</td>\n",
       "      <td>...</td>\n",
       "    </tr>\n",
       "    <tr>\n",
       "      <th>841</th>\n",
       "      <td>2356</td>\n",
       "      <td>1</td>\n",
       "    </tr>\n",
       "    <tr>\n",
       "      <th>842</th>\n",
       "      <td>2426</td>\n",
       "      <td>1</td>\n",
       "    </tr>\n",
       "    <tr>\n",
       "      <th>843</th>\n",
       "      <td>3147</td>\n",
       "      <td>1</td>\n",
       "    </tr>\n",
       "    <tr>\n",
       "      <th>844</th>\n",
       "      <td>3883</td>\n",
       "      <td>1</td>\n",
       "    </tr>\n",
       "    <tr>\n",
       "      <th>845</th>\n",
       "      <td>8689</td>\n",
       "      <td>1</td>\n",
       "    </tr>\n",
       "  </tbody>\n",
       "</table>\n",
       "<p>846 rows × 2 columns</p>\n",
       "</div>"
      ],
      "text/plain": [
       "     nb_sessions_per_Costmer  nb_constumer\n",
       "0                          1          1957\n",
       "1                          2           833\n",
       "2                          3           756\n",
       "3                          4           470\n",
       "4                          5           655\n",
       "..                       ...           ...\n",
       "841                     2356             1\n",
       "842                     2426             1\n",
       "843                     3147             1\n",
       "844                     3883             1\n",
       "845                     8689             1\n",
       "\n",
       "[846 rows x 2 columns]"
      ]
     },
     "execution_count": 66,
     "metadata": {},
     "output_type": "execute_result"
    }
   ],
   "source": [
    "data[['Customer_id','Session_id']].groupby('Customer_id').count().reset_index().groupby('Session_id').count().reset_index().rename(columns={\"Session_id\":\"nb_sessions_per_Costmer\",\"Customer_id\":\"nb_constumer\"})\n"
   ]
  },
  {
   "cell_type": "code",
   "execution_count": 67,
   "id": "c01317f4",
   "metadata": {},
   "outputs": [
    {
     "data": {
      "text/plain": [
       "<function matplotlib.pyplot.show(close=None, block=None)>"
      ]
     },
     "execution_count": 67,
     "metadata": {},
     "output_type": "execute_result"
    },
    {
     "data": {
      "image/png": "[encoded data removed]",
      "text/plain": [
       "<Figure size 432x288 with 1 Axes>"
      ]
     },
     "metadata": {
      "needs_background": "light"
     },
     "output_type": "display_data"
    }
   ],
   "source": [
    "import matplotlib.pyplot as plt\n",
    "a= data[['Customer_id','Session_id']].groupby('Customer_id').count().reset_index().groupby('Session_id').count().reset_index().rename(columns={\"Session_id\":\"nb_sessions_per_Costmer\",\"Customer_id\":\"nb_constumer\"})\n",
    "\n",
    "\n",
    "x= list(a['nb_sessions_per_Costmer'])\n",
    "y= list(a['nb_constumer'])\n",
    "\n",
    "plt.plot(x,y)\n",
    "plt.show"
   ]
  },
  {
   "cell_type": "code",
   "execution_count": 68,
   "id": "373040c2",
   "metadata": {},
   "outputs": [],
   "source": [
    "worldcities=pd.read_csv('worldcities.csv')[['city','country','lat','lng']]\n",
    "dict_cities={}\n",
    "import json\n",
    "result = worldcities[['city','lat','lng']].to_json(orient=\"values\")\n",
    "parsed = json.loads(result)\n",
    "for el in parsed:\n",
    "    dict_cities[el[0]]= [el[1], el[2]]\n"
   ]
  },
  {
   "cell_type": "code",
   "execution_count": 69,
   "id": "52845763",
   "metadata": {},
   "outputs": [
    {
     "data": {
      "text/html": [
       "<div>\n",
       "<style scoped>\n",
       "    .dataframe tbody tr th:only-of-type {\n",
       "        vertical-align: middle;\n",
       "    }\n",
       "\n",
       "    .dataframe tbody tr th {\n",
       "        vertical-align: top;\n",
       "    }\n",
       "\n",
       "    .dataframe thead tr th {\n",
       "        text-align: left;\n",
       "    }\n",
       "\n",
       "    .dataframe thead tr:last-of-type th {\n",
       "        text-align: right;\n",
       "    }\n",
       "</style>\n",
       "<table border=\"1\" class=\"dataframe\">\n",
       "  <thead>\n",
       "    <tr>\n",
       "      <th></th>\n",
       "      <th colspan=\"2\" halign=\"left\">lat</th>\n",
       "      <th colspan=\"2\" halign=\"left\">lng</th>\n",
       "    </tr>\n",
       "    <tr>\n",
       "      <th></th>\n",
       "      <th>min</th>\n",
       "      <th>max</th>\n",
       "      <th>min</th>\n",
       "      <th>max</th>\n",
       "    </tr>\n",
       "    <tr>\n",
       "      <th>country</th>\n",
       "      <th></th>\n",
       "      <th></th>\n",
       "      <th></th>\n",
       "      <th></th>\n",
       "    </tr>\n",
       "  </thead>\n",
       "  <tbody>\n",
       "    <tr>\n",
       "      <th>Afghanistan</th>\n",
       "      <td>30.9600</td>\n",
       "      <td>37.1298</td>\n",
       "      <td>61.8600</td>\n",
       "      <td>71.1528</td>\n",
       "    </tr>\n",
       "    <tr>\n",
       "      <th>Albania</th>\n",
       "      <td>39.8833</td>\n",
       "      <td>42.3582</td>\n",
       "      <td>19.4500</td>\n",
       "      <td>20.9900</td>\n",
       "    </tr>\n",
       "    <tr>\n",
       "      <th>Algeria</th>\n",
       "      <td>19.5686</td>\n",
       "      <td>36.9167</td>\n",
       "      <td>-8.1286</td>\n",
       "      <td>9.5500</td>\n",
       "    </tr>\n",
       "    <tr>\n",
       "      <th>American Samoa</th>\n",
       "      <td>-14.2740</td>\n",
       "      <td>-14.2740</td>\n",
       "      <td>-170.7046</td>\n",
       "      <td>-170.7046</td>\n",
       "    </tr>\n",
       "    <tr>\n",
       "      <th>Andorra</th>\n",
       "      <td>42.4664</td>\n",
       "      <td>42.5670</td>\n",
       "      <td>1.4933</td>\n",
       "      <td>1.5981</td>\n",
       "    </tr>\n",
       "    <tr>\n",
       "      <th>...</th>\n",
       "      <td>...</td>\n",
       "      <td>...</td>\n",
       "      <td>...</td>\n",
       "      <td>...</td>\n",
       "    </tr>\n",
       "    <tr>\n",
       "      <th>West Bank</th>\n",
       "      <td>31.7764</td>\n",
       "      <td>31.7764</td>\n",
       "      <td>35.2269</td>\n",
       "      <td>35.2269</td>\n",
       "    </tr>\n",
       "    <tr>\n",
       "      <th>Western Sahara</th>\n",
       "      <td>26.0928</td>\n",
       "      <td>26.0928</td>\n",
       "      <td>-10.6089</td>\n",
       "      <td>-10.6089</td>\n",
       "    </tr>\n",
       "    <tr>\n",
       "      <th>Yemen</th>\n",
       "      <td>12.6519</td>\n",
       "      <td>16.9358</td>\n",
       "      <td>42.9511</td>\n",
       "      <td>54.0239</td>\n",
       "    </tr>\n",
       "    <tr>\n",
       "      <th>Zambia</th>\n",
       "      <td>-17.8500</td>\n",
       "      <td>-8.8400</td>\n",
       "      <td>22.6800</td>\n",
       "      <td>33.1700</td>\n",
       "    </tr>\n",
       "    <tr>\n",
       "      <th>Zimbabwe</th>\n",
       "      <td>-22.2167</td>\n",
       "      <td>-16.5333</td>\n",
       "      <td>25.8333</td>\n",
       "      <td>32.6694</td>\n",
       "    </tr>\n",
       "  </tbody>\n",
       "</table>\n",
       "<p>237 rows × 4 columns</p>\n",
       "</div>"
      ],
      "text/plain": [
       "                    lat                lng          \n",
       "                    min      max       min       max\n",
       "country                                             \n",
       "Afghanistan     30.9600  37.1298   61.8600   71.1528\n",
       "Albania         39.8833  42.3582   19.4500   20.9900\n",
       "Algeria         19.5686  36.9167   -8.1286    9.5500\n",
       "American Samoa -14.2740 -14.2740 -170.7046 -170.7046\n",
       "Andorra         42.4664  42.5670    1.4933    1.5981\n",
       "...                 ...      ...       ...       ...\n",
       "West Bank       31.7764  31.7764   35.2269   35.2269\n",
       "Western Sahara  26.0928  26.0928  -10.6089  -10.6089\n",
       "Yemen           12.6519  16.9358   42.9511   54.0239\n",
       "Zambia         -17.8500  -8.8400   22.6800   33.1700\n",
       "Zimbabwe       -22.2167 -16.5333   25.8333   32.6694\n",
       "\n",
       "[237 rows x 4 columns]"
      ]
     },
     "execution_count": 69,
     "metadata": {},
     "output_type": "execute_result"
    }
   ],
   "source": [
    "worldcities[['country','lat','lng']].groupby('country').agg(['min','max'])"
   ]
  },
  {
   "cell_type": "code",
   "execution_count": 70,
   "id": "c1430173",
   "metadata": {},
   "outputs": [],
   "source": [
    "from random import randrange\n",
    "dic_location={}\n",
    "cities=list(worldcities['city'].unique())\n",
    "for el in list(data['Session_id'].unique()):\n",
    "    i= randrange(len(cities))\n",
    "    lat=randrange(5)\n",
    "    lng=randrange(5)\n",
    "    dic_location[el] = [float(dict_cities[cities[i]][0])+lat, float(dict_cities[cities[i]][1])+lng]\n",
    "    "
   ]
  },
  {
   "cell_type": "code",
   "execution_count": 71,
   "id": "b810425b",
   "metadata": {},
   "outputs": [],
   "source": [
    "data['Location']=data['Session_id'].map(dic_location)"
   ]
  },
  {
   "cell_type": "code",
   "execution_count": 72,
   "id": "6ad8e69c",
   "metadata": {},
   "outputs": [
    {
     "name": "stdout",
     "output_type": "stream",
     "text": [
      "(2826629, 12)\n",
      "(3533286, 13)\n"
     ]
    }
   ],
   "source": [
    "import numpy as np\n",
    "part1= data.sample(frac = 0.8)\n",
    "part2 = data.drop(part1.index)\n",
    "print(part1.shape)\n",
    "part1['License_id']= part1['product_id']\n",
    "part2['License_id']= np.random.randint(1, 10000, part2.shape[0])\n",
    "\n",
    "data=pd.concat([part1,part2])\n",
    "print(data.shape)"
   ]
  },
  {
   "cell_type": "code",
   "execution_count": 73,
   "id": "56f8b156",
   "metadata": {},
   "outputs": [
    {
     "data": {
      "image/png": "[encoded data removed]",
      "text/plain": [
       "<Figure size 1080x576 with 1 Axes>"
      ]
     },
     "metadata": {
      "needs_background": "light"
     },
     "output_type": "display_data"
    }
   ],
   "source": [
    "import seaborn as sns\n",
    "g = sns.displot(data=data[['License_id','product_id']].groupby('License_id').nunique().reset_index().rename(columns={\"product_id\":\"nbr_product_id_per_License\"}), x=\"nbr_product_id_per_License\", stat='percent',multiple=\"stack\")\n",
    "\n",
    "g.fig.set_size_inches(15,8)"
   ]
  },
  {
   "cell_type": "code",
   "execution_count": 74,
   "id": "d7fe6b30",
   "metadata": {},
   "outputs": [],
   "source": [
    "import datetime\n",
    "from random import randrange\n",
    "from datetime import timedelta\n",
    "def start_event(event):\n",
    "    h=randrange(10)\n",
    "    m=randrange(60)\n",
    "    return event-timedelta(hours=h, minutes= m)\n",
    "\n",
    "def end_event(event):\n",
    "    h=randrange(10)\n",
    "    m=randrange(60)   \n",
    "    return event+timedelta(hours=h, minutes= m)\n",
    "    "
   ]
  },
  {
   "cell_type": "code",
   "execution_count": 75,
   "id": "df559c77",
   "metadata": {},
   "outputs": [],
   "source": [
    "\n",
    "data['event_time']=data['event_time'].apply(lambda x : datetime.datetime.strptime(str(x)[:-4],\"%Y-%m-%d %H:%M:%S\"))\n"
   ]
  },
  {
   "cell_type": "code",
   "execution_count": 76,
   "id": "42ea032f",
   "metadata": {},
   "outputs": [],
   "source": [
    "data['Session_start_datetime']= data['event_time'].apply(lambda x : start_event(x))\n",
    "data['Session_end_datetime']= data['event_time'].apply(lambda x : end_event(x))"
   ]
  },
  {
   "cell_type": "code",
   "execution_count": 77,
   "id": "e5cdc106",
   "metadata": {},
   "outputs": [],
   "source": [
    "data['duration']=data['Session_end_datetime'] - data['Session_start_datetime']\n"
   ]
  },
  {
   "cell_type": "code",
   "execution_count": null,
   "id": "17dffb64",
   "metadata": {},
   "outputs": [],
   "source": [
    "data['duration']=data['duration'].apply(lambda x : x.total_seconds()/60)"
   ]
  },
  {
   "cell_type": "code",
   "execution_count": 44,
   "id": "ca547ee8",
   "metadata": {},
   "outputs": [],
   "source": [
    "import seaborn as sns\n",
    "g = sns.displot(data=data, x=\"duration\", stat='percent',multiple=\"stack\")\n",
    "\n",
    "g.fig.set_size_inches(15,8)"
   ]
  },
  {
   "cell_type": "code",
   "execution_count": 80,
   "id": "c48dd38d",
   "metadata": {},
   "outputs": [],
   "source": [
    "df=data[['License_id','Session_start_datetime','Session_end_datetime','col1']].groupby('License_id').agg({'Session_start_datetime' : 'min', 'Session_end_datetime' : 'max','col1':'count'}).reset_index()\n",
    "df=df.rename(columns={\"Session_start_datetime\":\"License_start_date\",\"Session_end_datetime\": \"License_end_date\"})"
   ]
  },
  {
   "cell_type": "code",
   "execution_count": 89,
   "id": "c8410d61",
   "metadata": {},
   "outputs": [
    {
     "data": {
      "text/html": [
       "<div>\n",
       "<style scoped>\n",
       "    .dataframe tbody tr th:only-of-type {\n",
       "        vertical-align: middle;\n",
       "    }\n",
       "\n",
       "    .dataframe tbody tr th {\n",
       "        vertical-align: top;\n",
       "    }\n",
       "\n",
       "    .dataframe thead th {\n",
       "        text-align: right;\n",
       "    }\n",
       "</style>\n",
       "<table border=\"1\" class=\"dataframe\">\n",
       "  <thead>\n",
       "    <tr style=\"text-align: right;\">\n",
       "      <th></th>\n",
       "      <th>event_time</th>\n",
       "      <th>event_type</th>\n",
       "      <th>product_id</th>\n",
       "      <th>category_id</th>\n",
       "      <th>category_code</th>\n",
       "      <th>brand</th>\n",
       "      <th>price</th>\n",
       "      <th>user_id</th>\n",
       "      <th>Session_id</th>\n",
       "      <th>Customer_id</th>\n",
       "      <th>Location</th>\n",
       "      <th>License_id</th>\n",
       "      <th>Session_start_datetime</th>\n",
       "      <th>Session_end_datetime</th>\n",
       "      <th>duration</th>\n",
       "      <th>License_start_date</th>\n",
       "      <th>License_end_date</th>\n",
       "    </tr>\n",
       "  </thead>\n",
       "  <tbody>\n",
       "    <tr>\n",
       "      <th>0</th>\n",
       "      <td>2019-12-05 04:52:37</td>\n",
       "      <td>cart</td>\n",
       "      <td>3978</td>\n",
       "      <td>1487580005411062629</td>\n",
       "      <td>NaN</td>\n",
       "      <td>cnd</td>\n",
       "      <td>29.05</td>\n",
       "      <td>511177493</td>\n",
       "      <td>6fe1f442-24eb-4461-ba47-5a484fab0770</td>\n",
       "      <td>584747065_193818</td>\n",
       "      <td>[-22.1808, -49.6469]</td>\n",
       "      <td>3978</td>\n",
       "      <td>2019-12-05 01:33:37</td>\n",
       "      <td>2019-12-05 07:35:37</td>\n",
       "      <td>0 days 06:02:00</td>\n",
       "      <td>2019-11-30 15:17:26</td>\n",
       "      <td>2020-01-01 02:10:57</td>\n",
       "    </tr>\n",
       "    <tr>\n",
       "      <th>1</th>\n",
       "      <td>2019-12-14 20:33:44</td>\n",
       "      <td>remove_from_cart</td>\n",
       "      <td>3978</td>\n",
       "      <td>1487580005411062629</td>\n",
       "      <td>NaN</td>\n",
       "      <td>cnd</td>\n",
       "      <td>29.05</td>\n",
       "      <td>586431007</td>\n",
       "      <td>7eaae0f5-075b-4d95-861f-4a98b308e372</td>\n",
       "      <td>534475968_744114</td>\n",
       "      <td>[51.1167, 15.8667]</td>\n",
       "      <td>3978</td>\n",
       "      <td>2019-12-14 13:49:44</td>\n",
       "      <td>2019-12-15 03:56:44</td>\n",
       "      <td>0 days 14:07:00</td>\n",
       "      <td>2019-11-30 15:17:26</td>\n",
       "      <td>2020-01-01 02:10:57</td>\n",
       "    </tr>\n",
       "    <tr>\n",
       "      <th>2</th>\n",
       "      <td>2019-12-08 21:43:52</td>\n",
       "      <td>view</td>\n",
       "      <td>3978</td>\n",
       "      <td>1487580005411062629</td>\n",
       "      <td>NaN</td>\n",
       "      <td>cnd</td>\n",
       "      <td>29.05</td>\n",
       "      <td>518846352</td>\n",
       "      <td>90abb6b7-13c2-409e-bb83-a1b7d0316eef</td>\n",
       "      <td>571738090_788463</td>\n",
       "      <td>[36.2236, -5.127800000000001]</td>\n",
       "      <td>3978</td>\n",
       "      <td>2019-12-08 14:05:52</td>\n",
       "      <td>2019-12-09 03:44:52</td>\n",
       "      <td>0 days 13:39:00</td>\n",
       "      <td>2019-11-30 15:17:26</td>\n",
       "      <td>2020-01-01 02:10:57</td>\n",
       "    </tr>\n",
       "    <tr>\n",
       "      <th>3</th>\n",
       "      <td>2019-12-31 10:58:02</td>\n",
       "      <td>view</td>\n",
       "      <td>3978</td>\n",
       "      <td>1487580005411062629</td>\n",
       "      <td>NaN</td>\n",
       "      <td>cnd</td>\n",
       "      <td>29.05</td>\n",
       "      <td>570294690</td>\n",
       "      <td>2367c353-fb70-41af-a7ca-c0b0ff96ff33</td>\n",
       "      <td>557802240_283271</td>\n",
       "      <td>[11.9281, -68.5778]</td>\n",
       "      <td>3978</td>\n",
       "      <td>2019-12-31 02:55:02</td>\n",
       "      <td>2019-12-31 15:45:02</td>\n",
       "      <td>0 days 12:50:00</td>\n",
       "      <td>2019-11-30 15:17:26</td>\n",
       "      <td>2020-01-01 02:10:57</td>\n",
       "    </tr>\n",
       "    <tr>\n",
       "      <th>4</th>\n",
       "      <td>2019-12-12 16:34:09</td>\n",
       "      <td>cart</td>\n",
       "      <td>3978</td>\n",
       "      <td>1487580005411062629</td>\n",
       "      <td>NaN</td>\n",
       "      <td>cnd</td>\n",
       "      <td>29.05</td>\n",
       "      <td>465503484</td>\n",
       "      <td>dc7c3e53-d30d-4892-9561-2e131f3622c0</td>\n",
       "      <td>465503484_510336</td>\n",
       "      <td>[10.7903, -72.7556]</td>\n",
       "      <td>3978</td>\n",
       "      <td>2019-12-12 07:01:09</td>\n",
       "      <td>2019-12-12 21:45:09</td>\n",
       "      <td>0 days 14:44:00</td>\n",
       "      <td>2019-11-30 15:17:26</td>\n",
       "      <td>2020-01-01 02:10:57</td>\n",
       "    </tr>\n",
       "    <tr>\n",
       "      <th>...</th>\n",
       "      <td>...</td>\n",
       "      <td>...</td>\n",
       "      <td>...</td>\n",
       "      <td>...</td>\n",
       "      <td>...</td>\n",
       "      <td>...</td>\n",
       "      <td>...</td>\n",
       "      <td>...</td>\n",
       "      <td>...</td>\n",
       "      <td>...</td>\n",
       "      <td>...</td>\n",
       "      <td>...</td>\n",
       "      <td>...</td>\n",
       "      <td>...</td>\n",
       "      <td>...</td>\n",
       "      <td>...</td>\n",
       "      <td>...</td>\n",
       "    </tr>\n",
       "    <tr>\n",
       "      <th>3533281</th>\n",
       "      <td>2019-12-27 13:12:49</td>\n",
       "      <td>cart</td>\n",
       "      <td>5697499</td>\n",
       "      <td>1487580013841613016</td>\n",
       "      <td>NaN</td>\n",
       "      <td>estel</td>\n",
       "      <td>6.59</td>\n",
       "      <td>593430267</td>\n",
       "      <td>1e35cf65-2200-4563-8903-5117b8ecb0d8</td>\n",
       "      <td>593430267_252984</td>\n",
       "      <td>[35.1713, -82.9142]</td>\n",
       "      <td>4861</td>\n",
       "      <td>2019-12-27 04:08:49</td>\n",
       "      <td>2019-12-27 16:16:49</td>\n",
       "      <td>0 days 12:08:00</td>\n",
       "      <td>2019-12-04 23:55:30</td>\n",
       "      <td>2019-12-29 05:24:14</td>\n",
       "    </tr>\n",
       "    <tr>\n",
       "      <th>3533282</th>\n",
       "      <td>2019-12-27 20:25:06</td>\n",
       "      <td>view</td>\n",
       "      <td>5897535</td>\n",
       "      <td>1487580009311764506</td>\n",
       "      <td>NaN</td>\n",
       "      <td>NaN</td>\n",
       "      <td>2.16</td>\n",
       "      <td>583884978</td>\n",
       "      <td>3a137aaa-868f-4f1a-a62e-b2813e18a10d</td>\n",
       "      <td>583884978_428750</td>\n",
       "      <td>[14.4333, 124.5167]</td>\n",
       "      <td>4861</td>\n",
       "      <td>2019-12-27 16:31:06</td>\n",
       "      <td>2019-12-28 00:32:06</td>\n",
       "      <td>0 days 08:01:00</td>\n",
       "      <td>2019-12-04 23:55:30</td>\n",
       "      <td>2019-12-29 05:24:14</td>\n",
       "    </tr>\n",
       "    <tr>\n",
       "      <th>3533283</th>\n",
       "      <td>2019-12-28 05:42:20</td>\n",
       "      <td>view</td>\n",
       "      <td>5790562</td>\n",
       "      <td>1487580011585077370</td>\n",
       "      <td>NaN</td>\n",
       "      <td>NaN</td>\n",
       "      <td>38.10</td>\n",
       "      <td>196042408</td>\n",
       "      <td>5b697e1f-cfbb-4a14-9b53-dc76a34d38eb</td>\n",
       "      <td>556265124_820671</td>\n",
       "      <td>[38.8, 36.53]</td>\n",
       "      <td>4861</td>\n",
       "      <td>2019-12-28 04:00:20</td>\n",
       "      <td>2019-12-28 15:36:20</td>\n",
       "      <td>0 days 11:36:00</td>\n",
       "      <td>2019-12-04 23:55:30</td>\n",
       "      <td>2019-12-29 05:24:14</td>\n",
       "    </tr>\n",
       "    <tr>\n",
       "      <th>3533284</th>\n",
       "      <td>2019-12-28 21:16:14</td>\n",
       "      <td>view</td>\n",
       "      <td>5717245</td>\n",
       "      <td>1487580008145748965</td>\n",
       "      <td>NaN</td>\n",
       "      <td>NaN</td>\n",
       "      <td>0.95</td>\n",
       "      <td>571141506</td>\n",
       "      <td>64f7d0d6-8726-4902-aa1f-1b2bfdd95809</td>\n",
       "      <td>564341737_140932</td>\n",
       "      <td>[39.15, -2.9667]</td>\n",
       "      <td>4861</td>\n",
       "      <td>2019-12-28 16:19:14</td>\n",
       "      <td>2019-12-29 05:24:14</td>\n",
       "      <td>0 days 13:05:00</td>\n",
       "      <td>2019-12-04 23:55:30</td>\n",
       "      <td>2019-12-29 05:24:14</td>\n",
       "    </tr>\n",
       "    <tr>\n",
       "      <th>3533285</th>\n",
       "      <td>2019-12-28 22:46:04</td>\n",
       "      <td>view</td>\n",
       "      <td>5762493</td>\n",
       "      <td>1558526315760452545</td>\n",
       "      <td>NaN</td>\n",
       "      <td>NaN</td>\n",
       "      <td>0.40</td>\n",
       "      <td>573098004</td>\n",
       "      <td>a77fe17c-8c12-4b9c-a703-b9f2fe8d8983</td>\n",
       "      <td>566930316_400708</td>\n",
       "      <td>[47.3167, -1.6667]</td>\n",
       "      <td>4861</td>\n",
       "      <td>2019-12-28 22:16:04</td>\n",
       "      <td>2019-12-28 23:30:04</td>\n",
       "      <td>0 days 01:14:00</td>\n",
       "      <td>2019-12-04 23:55:30</td>\n",
       "      <td>2019-12-29 05:24:14</td>\n",
       "    </tr>\n",
       "  </tbody>\n",
       "</table>\n",
       "<p>3533286 rows × 17 columns</p>\n",
       "</div>"
      ],
      "text/plain": [
       "                 event_time        event_type  product_id  \\\n",
       "0       2019-12-05 04:52:37              cart        3978   \n",
       "1       2019-12-14 20:33:44  remove_from_cart        3978   \n",
       "2       2019-12-08 21:43:52              view        3978   \n",
       "3       2019-12-31 10:58:02              view        3978   \n",
       "4       2019-12-12 16:34:09              cart        3978   \n",
       "...                     ...               ...         ...   \n",
       "3533281 2019-12-27 13:12:49              cart     5697499   \n",
       "3533282 2019-12-27 20:25:06              view     5897535   \n",
       "3533283 2019-12-28 05:42:20              view     5790562   \n",
       "3533284 2019-12-28 21:16:14              view     5717245   \n",
       "3533285 2019-12-28 22:46:04              view     5762493   \n",
       "\n",
       "                 category_id category_code  brand  price    user_id  \\\n",
       "0        1487580005411062629           NaN    cnd  29.05  511177493   \n",
       "1        1487580005411062629           NaN    cnd  29.05  586431007   \n",
       "2        1487580005411062629           NaN    cnd  29.05  518846352   \n",
       "3        1487580005411062629           NaN    cnd  29.05  570294690   \n",
       "4        1487580005411062629           NaN    cnd  29.05  465503484   \n",
       "...                      ...           ...    ...    ...        ...   \n",
       "3533281  1487580013841613016           NaN  estel   6.59  593430267   \n",
       "3533282  1487580009311764506           NaN    NaN   2.16  583884978   \n",
       "3533283  1487580011585077370           NaN    NaN  38.10  196042408   \n",
       "3533284  1487580008145748965           NaN    NaN   0.95  571141506   \n",
       "3533285  1558526315760452545           NaN    NaN   0.40  573098004   \n",
       "\n",
       "                                   Session_id       Customer_id  \\\n",
       "0        6fe1f442-24eb-4461-ba47-5a484fab0770  584747065_193818   \n",
       "1        7eaae0f5-075b-4d95-861f-4a98b308e372  534475968_744114   \n",
       "2        90abb6b7-13c2-409e-bb83-a1b7d0316eef  571738090_788463   \n",
       "3        2367c353-fb70-41af-a7ca-c0b0ff96ff33  557802240_283271   \n",
       "4        dc7c3e53-d30d-4892-9561-2e131f3622c0  465503484_510336   \n",
       "...                                       ...               ...   \n",
       "3533281  1e35cf65-2200-4563-8903-5117b8ecb0d8  593430267_252984   \n",
       "3533282  3a137aaa-868f-4f1a-a62e-b2813e18a10d  583884978_428750   \n",
       "3533283  5b697e1f-cfbb-4a14-9b53-dc76a34d38eb  556265124_820671   \n",
       "3533284  64f7d0d6-8726-4902-aa1f-1b2bfdd95809  564341737_140932   \n",
       "3533285  a77fe17c-8c12-4b9c-a703-b9f2fe8d8983  566930316_400708   \n",
       "\n",
       "                              Location  License_id Session_start_datetime  \\\n",
       "0                 [-22.1808, -49.6469]        3978    2019-12-05 01:33:37   \n",
       "1                   [51.1167, 15.8667]        3978    2019-12-14 13:49:44   \n",
       "2        [36.2236, -5.127800000000001]        3978    2019-12-08 14:05:52   \n",
       "3                  [11.9281, -68.5778]        3978    2019-12-31 02:55:02   \n",
       "4                  [10.7903, -72.7556]        3978    2019-12-12 07:01:09   \n",
       "...                                ...         ...                    ...   \n",
       "3533281            [35.1713, -82.9142]        4861    2019-12-27 04:08:49   \n",
       "3533282            [14.4333, 124.5167]        4861    2019-12-27 16:31:06   \n",
       "3533283                  [38.8, 36.53]        4861    2019-12-28 04:00:20   \n",
       "3533284               [39.15, -2.9667]        4861    2019-12-28 16:19:14   \n",
       "3533285             [47.3167, -1.6667]        4861    2019-12-28 22:16:04   \n",
       "\n",
       "        Session_end_datetime        duration  License_start_date  \\\n",
       "0        2019-12-05 07:35:37 0 days 06:02:00 2019-11-30 15:17:26   \n",
       "1        2019-12-15 03:56:44 0 days 14:07:00 2019-11-30 15:17:26   \n",
       "2        2019-12-09 03:44:52 0 days 13:39:00 2019-11-30 15:17:26   \n",
       "3        2019-12-31 15:45:02 0 days 12:50:00 2019-11-30 15:17:26   \n",
       "4        2019-12-12 21:45:09 0 days 14:44:00 2019-11-30 15:17:26   \n",
       "...                      ...             ...                 ...   \n",
       "3533281  2019-12-27 16:16:49 0 days 12:08:00 2019-12-04 23:55:30   \n",
       "3533282  2019-12-28 00:32:06 0 days 08:01:00 2019-12-04 23:55:30   \n",
       "3533283  2019-12-28 15:36:20 0 days 11:36:00 2019-12-04 23:55:30   \n",
       "3533284  2019-12-29 05:24:14 0 days 13:05:00 2019-12-04 23:55:30   \n",
       "3533285  2019-12-28 23:30:04 0 days 01:14:00 2019-12-04 23:55:30   \n",
       "\n",
       "           License_end_date  \n",
       "0       2020-01-01 02:10:57  \n",
       "1       2020-01-01 02:10:57  \n",
       "2       2020-01-01 02:10:57  \n",
       "3       2020-01-01 02:10:57  \n",
       "4       2020-01-01 02:10:57  \n",
       "...                     ...  \n",
       "3533281 2019-12-29 05:24:14  \n",
       "3533282 2019-12-29 05:24:14  \n",
       "3533283 2019-12-29 05:24:14  \n",
       "3533284 2019-12-29 05:24:14  \n",
       "3533285 2019-12-29 05:24:14  \n",
       "\n",
       "[3533286 rows x 17 columns]"
      ]
     },
     "execution_count": 89,
     "metadata": {},
     "output_type": "execute_result"
    }
   ],
   "source": [
    "res= pd.merge(data,df[['License_id','License_start_date','License_end_date']], on= 'License_id')\n",
    "res=res.drop(columns='col1')\n",
    "res"
   ]
  },
  {
   "cell_type": "code",
   "execution_count": 88,
   "id": "9637c8f8",
   "metadata": {},
   "outputs": [
    {
     "data": {
      "text/plain": [
       "['event_time',\n",
       " 'event_type',\n",
       " 'product_id',\n",
       " 'category_id',\n",
       " 'category_code',\n",
       " 'brand',\n",
       " 'price',\n",
       " 'user_id',\n",
       " 'Session_id',\n",
       " 'Customer_id',\n",
       " 'Location',\n",
       " 'License_id',\n",
       " 'Session_start_datetime',\n",
       " 'Session_end_datetime',\n",
       " 'duration',\n",
       " 'License_start_date',\n",
       " 'License_end_date']"
      ]
     },
     "execution_count": 88,
     "metadata": {},
     "output_type": "execute_result"
    }
   ],
   "source": [
    "list(res.columns)"
   ]
  },
  {
   "cell_type": "code",
   "execution_count": 15,
   "id": "ca46e902",
   "metadata": {},
   "outputs": [],
   "source": [
    "res.to_csv('data_out.csv',index=False)"
   ]
  },
  {
   "cell_type": "markdown",
   "id": "20cd7d12",
   "metadata": {},
   "source": [
    "# Graph"
   ]
  },
  {
   "cell_type": "code",
   "execution_count": 141,
   "id": "8f37a7a2",
   "metadata": {},
   "outputs": [],
   "source": [
    "#import networkx as nx\n",
    "#G = nx.Graph()"
   ]
  },
  {
   "cell_type": "code",
   "execution_count": 84,
   "id": "c5736902",
   "metadata": {},
   "outputs": [],
   "source": [
    "#columns=list(data.columns)\n",
    "#for el in ['event_time','col1','duration']:\n",
    "    #columns.remove(el)\n",
    "#print(columns)"
   ]
  },
  {
   "cell_type": "code",
   "execution_count": null,
   "id": "0b28ee9f",
   "metadata": {},
   "outputs": [],
   "source": [
    "#G = nx.from_pandas_edgelist(data, 'event_type', 'product_id')"
   ]
  },
  {
   "cell_type": "code",
   "execution_count": null,
   "id": "a2e460ad",
   "metadata": {},
   "outputs": [],
   "source": [
    "#from matplotlib.pyplot import figure\n",
    "#figure(figsize=(100, 80))\n",
    "#nx.draw_shell(G, with_labels=True)"
   ]
  },
  {
   "cell_type": "code",
   "execution_count": 191,
   "id": "2ac9f80a",
   "metadata": {},
   "outputs": [],
   "source": [
    "#G = nx.from_numpy_matrix(data.values)\n",
    "#G = nx.relabel_nodes(G, dict(enumerate(data.columns)))\n",
    "# nx.draw_spectral(G)\n",
    "# nx.draw_random(G)\n",
    "# nx.draw_circular(G)\n",
    "#nx.draw(G)"
   ]
  },
  {
   "cell_type": "code",
   "execution_count": 204,
   "id": "19081b1a",
   "metadata": {},
   "outputs": [],
   "source": [
    "#df = pd.read_csv('2019-Dec_out.csv')"
   ]
  },
  {
   "cell_type": "code",
   "execution_count": 2,
   "id": "02018fdc",
   "metadata": {},
   "outputs": [],
   "source": [
    "#import torch\n",
    "#\n",
    "#def load_node_csv(path, index_col, columns,encoders=None, **kwargs):\n",
    "#    df = pd.read_csv(path, index_col=index_col, **kwargs)[columns]\n",
    "#    mapping = {index: i for i, index in enumerate(df.index.unique())}\n",
    "#\n",
    "#    x = None\n",
    "#    if encoders is not None:\n",
    "#        xs = [encoder(df[col]) for col, encoder in encoders.items()]\n",
    "#        x = torch.cat(xs, dim=-1)\n",
    "#\n",
    "#    return x, mapping"
   ]
  },
  {
   "cell_type": "code",
   "execution_count": 47,
   "id": "d1986524",
   "metadata": {},
   "outputs": [],
   "source": [
    "#Session= data[['user_session','start_event','event_type','end_event','product_id','user_id','Consumer_id']]\n",
    "#Product=data[['product_id','category_id','category_code','brand','price']]\n",
    "#License=data[['License_id','Consumer_id','product_id']]\n",
    "#Customer= data[['Consumer_id','Location']]"
   ]
  },
  {
   "cell_type": "code",
   "execution_count": 12,
   "id": "f98f6f9d",
   "metadata": {},
   "outputs": [],
   "source": [
    "#a.to_csv('test.csv',index=False)"
   ]
  },
  {
   "cell_type": "code",
   "execution_count": 13,
   "id": "e0e45916",
   "metadata": {},
   "outputs": [],
   "source": [
    "#session_x, session_mapping = load_node_csv('2019-Dec_out.csv', index_col='user_session',columns=['user_session','start_event','event_type','end_event','product_id','user_id','Consumer_id'])"
   ]
  },
  {
   "cell_type": "code",
   "execution_count": 14,
   "id": "d9e746f6",
   "metadata": {},
   "outputs": [],
   "source": [
    "#product_x, product_mapping = load_node_csv('2019-Dec_out.csv', index_col='product_id',columns=['product_id','category_id','category_code','brand','price'])"
   ]
  },
  {
   "cell_type": "code",
   "execution_count": null,
   "id": "32558c87",
   "metadata": {},
   "outputs": [],
   "source": [
    "#user_x, user_mapping = load_node_csv('2019-Dec_out.csv', index_col='user_id',columns=['License_id','Consumer_id','product_id'])"
   ]
  },
  {
   "cell_type": "code",
   "execution_count": null,
   "id": "25870772",
   "metadata": {},
   "outputs": [],
   "source": [
    "#user_x, user_mapping = load_node_csv('2019-Dec_out.csv', index_col='user_id',columns=['License_id','Consumer_id','product_id'])"
   ]
  },
  {
   "cell_type": "code",
   "execution_count": null,
   "id": "115890ab",
   "metadata": {},
   "outputs": [],
   "source": [
    "#from torch_geometric.data import HeteroData\n",
    "#\n",
    "#data = HeteroData()\n",
    "#\n",
    "#data['user'].num_nodes = len(user_mapping)  # Users do not have any features.\n",
    "#data['movie'].x = movie_x\n",
    "#\n",
    "#print(data)\n",
    "#HeteroData(\n",
    "#  user={ num_nodes=610 },\n",
    "#  movie={ x[9742, 404] }\n",
    "#)"
   ]
  },
  {
   "cell_type": "code",
   "execution_count": null,
   "id": "2ddf1161",
   "metadata": {},
   "outputs": [],
   "source": [
    "#def load_edge_csv(path, src_index_col, src_mapping, dst_index_col, dst_mapping,\n",
    "#                  encoders=None, **kwargs):\n",
    "#    df = pd.read_csv(path, **kwargs)\n",
    "#\n",
    "#    src = [src_mapping[index] for index in df[src_index_col]]\n",
    "#    dst = [dst_mapping[index] for index in df[dst_index_col]]\n",
    "#    edge_index = torch.tensor([src, dst])\n",
    "#\n",
    "#    edge_attr = None\n",
    "#    if encoders is not None:\n",
    "#        edge_attrs = [encoder(df[col]) for col, encoder in encoders.items()]\n",
    "#        edge_attr = torch.cat(edge_attrs, dim=-1)\n",
    "#\n",
    "#    return edge_index, edge_attr"
   ]
  },
  {
   "cell_type": "code",
   "execution_count": null,
   "id": "26c3eeba",
   "metadata": {},
   "outputs": [],
   "source": [
    "#class IdentityEncoder(object):\n",
    "#    def __init__(self, dtype=None):\n",
    "#        self.dtype = dtype\n",
    "#\n",
    "#    def __call__(self, df):\n",
    "#        return torch.from_numpy(df.values).view(-1, 1).to(self.dtype)"
   ]
  },
  {
   "cell_type": "code",
   "execution_count": null,
   "id": "f0498158",
   "metadata": {},
   "outputs": [],
   "source": [
    "#edge_index, edge_label = load_edge_csv(\n",
    "#    rating_path,\n",
    "#    src_index_col='userId',\n",
    "#    src_mapping=user_mapping,\n",
    "#    dst_index_col='movieId',\n",
    "#    dst_mapping=movie_mapping,\n",
    "#    encoders={'rating': IdentityEncoder(dtype=torch.long)},\n",
    "#)\n",
    "#\n",
    "#data['user', 'rates', 'movie'].edge_index = edge_index\n",
    "#data['user', 'rates', 'movie'].edge_label = edge_label\n",
    "#\n",
    "#print(data)\n",
    "#HeteroData(\n",
    "#  user={ num_nodes=610 },\n",
    "#  movie={ x=[9742, 404] },\n",
    "#  (user, rates, movie)={\n",
    "#    edge_index=[2, 100836],\n",
    "#    edge_label=[100836, 1]\n",
    "#  }\n",
    "#)"
   ]
  }
 ],
 "metadata": {
  "kernelspec": {
   "display_name": "Python 3",
   "language": "python",
   "name": "python3"
  },
  "language_info": {
   "codemirror_mode": {
    "name": "ipython",
    "version": 3
   },
   "file_extension": ".py",
   "mimetype": "text/x-python",
   "name": "python",
   "nbconvert_exporter": "python",
   "pygments_lexer": "ipython3",
   "version": "3.6.9"
  }
 },
 "nbformat": 4,
 "nbformat_minor": 5
}
